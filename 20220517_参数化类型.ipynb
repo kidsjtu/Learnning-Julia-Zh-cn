{
 "cells": [
  {
   "cell_type": "markdown",
   "metadata": {},
   "source": [
    "# 2022年5月17日 Julia学习笔记\n",
    "## 使用参数化类型\n",
    "Julia语言最强大的功能之一就是能够对类型进行参数化。参数化类型允许软件设计人员归纳类型，并让Julia运行时根据指定的参数自动编译为具体类型。\n",
    "\n",
    "### 使用参数化复合类型\n"
   ]
  },
  {
   "cell_type": "markdown",
   "metadata": {},
   "source": [
    "首先回顾上一次内容中建立的股票类型"
   ]
  },
  {
   "cell_type": "code",
   "execution_count": 2,
   "metadata": {},
   "outputs": [],
   "source": [
    "abstract type Asset end\n",
    "\n",
    "abstract type Property <: Asset end\n",
    "abstract type Investment <: Asset end\n",
    "abstract type Cash <: Asset end\n",
    "\n",
    "abstract type House <: Property end\n",
    "abstract type Apartment <: Property end\n",
    "\n",
    "abstract type FixedIncome <: Investment end\n",
    "abstract type Equity <: Investment end\n",
    "\n",
    "struct Stock <: Equity \n",
    "    symbol::String\n",
    "    name::String\n",
    "end"
   ]
  },
  {
   "cell_type": "markdown",
   "metadata": {},
   "source": [
    "如果希望追踪自己拥有的股票数量，为此，定义一个名为StockHolding的新类型，如下："
   ]
  },
  {
   "cell_type": "code",
   "execution_count": 2,
   "metadata": {},
   "outputs": [],
   "source": [
    "struct StockHolding\n",
    "    stock::Stock\n",
    "    quantity::Int\n",
    "end"
   ]
  },
  {
   "cell_type": "markdown",
   "metadata": {},
   "source": [
    "如果需要数量中支持小数，可以将quantity类型改为Float64："
   ]
  },
  {
   "cell_type": "code",
   "execution_count": 2,
   "metadata": {},
   "outputs": [],
   "source": [
    "struct StockHolding\n",
    "    stock::Stock \n",
    "    quantity::Float64\n",
    "end"
   ]
  },
  {
   "cell_type": "markdown",
   "metadata": {},
   "source": [
    "如果程序中需要同时支持Int和Float64类型，那么必须维护两个略有不同的类型。灵活性太差，而且可能会比较悲催。可以使用参数重新设计StockHolding类型："
   ]
  },
  {
   "cell_type": "code",
   "execution_count": 5,
   "metadata": {},
   "outputs": [],
   "source": [
    "struct StockHolding{T}\n",
    "    stock::Stock\n",
    "    quantity::T\n",
    "end"
   ]
  },
  {
   "cell_type": "markdown",
   "metadata": {},
   "source": [
    "T称为类型参数。作为占位符，可以在任何字段中用作类型。于是StockHolding{Int}类型指包含Int类型的quantity字段的类型，同样，StockHolding{Float64}指包含Float64类型的quantity字段的类型。\n",
    "实际上，这个例子中，T类型只能是数字，因此可以进一步限定T为Real的任何子类型，即："
   ]
  },
  {
   "cell_type": "code",
   "execution_count": 3,
   "metadata": {},
   "outputs": [],
   "source": [
    "struct StockHolding{T <: Real}\n",
    "    stock::Stock \n",
    "    quantity::T\n",
    "end"
   ]
  },
  {
   "cell_type": "code",
   "execution_count": 8,
   "metadata": {},
   "outputs": [
    {
     "data": {
      "text/plain": [
       "StockHolding{Int64}(Stock(\"APPL\", \"Apple, Inc.\"), 100)"
      ]
     },
     "execution_count": 8,
     "metadata": {},
     "output_type": "execute_result"
    }
   ],
   "source": [
    "stock = Stock(\"APPL\", \"Apple, Inc.\")\n",
    "holding = StockHolding(stock, 100)"
   ]
  },
  {
   "cell_type": "code",
   "execution_count": 7,
   "metadata": {},
   "outputs": [
    {
     "data": {
      "text/plain": [
       "StockHolding{Float64}(Stock(\"APPL\", \"Apple, Inc.\"), 100.0)"
      ]
     },
     "execution_count": 7,
     "metadata": {},
     "output_type": "execute_result"
    }
   ],
   "source": [
    "holding = StockHolding(stock, 100.0)"
   ]
  },
  {
   "cell_type": "code",
   "execution_count": 9,
   "metadata": {},
   "outputs": [
    {
     "data": {
      "text/plain": [
       "StockHolding{Rational{Int64}}(Stock(\"APPL\", \"Apple, Inc.\"), 100//3)"
      ]
     },
     "execution_count": 9,
     "metadata": {},
     "output_type": "execute_result"
    }
   ],
   "source": [
    "holding = StockHolding(stock, 100//3)"
   ]
  },
  {
   "cell_type": "markdown",
   "metadata": {},
   "source": [
    "参数类型的另一种用途是强制字段类型的一致性。假设我们要设计另一种所持股票对象来追踪所持股票的价格和市场价值。如下："
   ]
  },
  {
   "cell_type": "code",
   "execution_count": 12,
   "metadata": {},
   "outputs": [],
   "source": [
    "struct StockHolding2{T <: Real, P <: AbstractFloat}\n",
    "    stock::Stock\n",
    "    quantity::T\n",
    "    price::P\n",
    "    marketvalue::P\n",
    "end"
   ]
  },
  {
   "cell_type": "markdown",
   "metadata": {},
   "source": [
    "由于quantity类型与price和marketvalue的类型不同，因此我们添加了一个新的类型参数P。调用如下："
   ]
  },
  {
   "cell_type": "code",
   "execution_count": 14,
   "metadata": {},
   "outputs": [
    {
     "data": {
      "text/plain": [
       "StockHolding2{Int64, Float64}(Stock(\"APPL\", \"Apple, Inc.\"), 100, 180.0, 18000.0)"
      ]
     },
     "execution_count": 14,
     "metadata": {},
     "output_type": "execute_result"
    }
   ],
   "source": [
    "holding = StockHolding2(stock, 100, 180.00, 18000.00)"
   ]
  },
  {
   "cell_type": "code",
   "execution_count": 15,
   "metadata": {},
   "outputs": [
    {
     "ename": "LoadError",
     "evalue": "MethodError: no method matching StockHolding2(::Stock, ::Int64, ::Float64, ::Int64)\n\u001b[0mClosest candidates are:\n\u001b[0m  StockHolding2(::Stock, ::T, ::P, \u001b[91m::P\u001b[39m) where {T<:Real, P<:AbstractFloat} at In[12]:2",
     "output_type": "error",
     "traceback": [
      "MethodError: no method matching StockHolding2(::Stock, ::Int64, ::Float64, ::Int64)\n\u001b[0mClosest candidates are:\n\u001b[0m  StockHolding2(::Stock, ::T, ::P, \u001b[91m::P\u001b[39m) where {T<:Real, P<:AbstractFloat} at In[12]:2",
      "",
      "Stacktrace:",
      " [1] top-level scope",
      "   @ In[15]:1",
      " [2] eval",
      "   @ .\\boot.jl:373 [inlined]",
      " [3] include_string(mapexpr::typeof(REPL.softscope), mod::Module, code::String, filename::String)",
      "   @ Base .\\loading.jl:1196"
     ]
    }
   ],
   "source": [
    "holding = StockHolding2(stock, 100, 180.00, 18000)"
   ]
  },
  {
   "cell_type": "markdown",
   "metadata": {},
   "source": [
    "可以发现如果输入的marketvalue值不符合要求的类型，因此返回了一个错误。\n",
    "\n",
    "参数类型也可以是抽象的。\n",
    "\n",
    "### 2.6.2 使用参数化抽象类型\n",
    "复合类型可以以参数化的方式进行增强，抽象类型同样也可以。比如："
   ]
  },
  {
   "cell_type": "code",
   "execution_count": 17,
   "metadata": {},
   "outputs": [],
   "source": [
    "abstract type Holding{P} end"
   ]
  },
  {
   "cell_type": "markdown",
   "metadata": {},
   "source": [
    "然后Holding{P}的每个子类型还必须带有一个P类型参数。例如我们可以创建两个新类型StockHolding3{T, P}和CashHolding{P}:\n"
   ]
  },
  {
   "cell_type": "code",
   "execution_count": 19,
   "metadata": {},
   "outputs": [],
   "source": [
    "struct StockHolding3{T, P} <: Holding{P}\n",
    "    stock::Stock\n",
    "    quantity::T\n",
    "    price::P\n",
    "    marketvalue::P\n",
    "end\n",
    "\n",
    "struct CashHolding{P} <: Holding{P}\n",
    "    currency::String\n",
    "    amount::P\n",
    "    marketvalue::P\n",
    "end"
   ]
  },
  {
   "cell_type": "markdown",
   "metadata": {},
   "source": [
    "可以见擦这些类型之间的关系，如下所示："
   ]
  },
  {
   "cell_type": "code",
   "execution_count": 20,
   "metadata": {},
   "outputs": [
    {
     "data": {
      "text/plain": [
       "true"
      ]
     },
     "execution_count": 20,
     "metadata": {},
     "output_type": "execute_result"
    }
   ],
   "source": [
    "StockHolding3{Int64, Float64} <: Holding{Float64}"
   ]
  },
  {
   "cell_type": "code",
   "execution_count": 21,
   "metadata": {},
   "outputs": [
    {
     "data": {
      "text/plain": [
       "StockHolding3{Int64, Float64}(Stock(\"APPL\", \"Apple, Inc.\"), 100, 180.0, 18000.0)"
      ]
     },
     "execution_count": 21,
     "metadata": {},
     "output_type": "execute_result"
    }
   ],
   "source": [
    "certificate_in_the_safe = StockHolding3(stock, 100, 180.00, 18000.00)"
   ]
  },
  {
   "cell_type": "code",
   "execution_count": 22,
   "metadata": {},
   "outputs": [
    {
     "data": {
      "text/plain": [
       "true"
      ]
     },
     "execution_count": 22,
     "metadata": {},
     "output_type": "execute_result"
    }
   ],
   "source": [
    "certificate_in_the_safe isa Holding{Float64}"
   ]
  },
  {
   "cell_type": "markdown",
   "metadata": {},
   "source": [
    "在对类型进行参数化时，每个变体都被视为与其他变体无关的单独类型，只是它们具有共同的超类型。例如：Holding{Int}与Holding{Float64}是不同的类型，但是它们都是Holding的子类型。"
   ]
  },
  {
   "cell_type": "code",
   "execution_count": 24,
   "metadata": {},
   "outputs": [
    {
     "data": {
      "text/plain": [
       "true"
      ]
     },
     "execution_count": 24,
     "metadata": {},
     "output_type": "execute_result"
    }
   ],
   "source": [
    "Holding{Float64} <: Holding"
   ]
  },
  {
   "cell_type": "code",
   "execution_count": 25,
   "metadata": {},
   "outputs": [
    {
     "data": {
      "text/plain": [
       "true"
      ]
     },
     "execution_count": 25,
     "metadata": {},
     "output_type": "execute_result"
    }
   ],
   "source": [
    "Holding{Int} <: Holding"
   ]
  },
  {
   "cell_type": "markdown",
   "metadata": {},
   "source": [
    "Julia附带一个非常丰富的类型系统，开发人员可以使用它来推理每种类型与其他类型的关系。\n",
    "- 抽象类型使我们能够定义关系层次结构中的行为。\n",
    "- 具体类型则用于定义数据的存储方式。\n",
    "- 参数化类型用于将现有类型扩展为字段类型的变体。"
   ]
  }
 ],
 "metadata": {
  "kernelspec": {
   "display_name": "Julia 1.7.0",
   "language": "julia",
   "name": "julia-1.7"
  },
  "language_info": {
   "file_extension": ".jl",
   "mimetype": "application/julia",
   "name": "julia",
   "version": "1.7.0"
  },
  "orig_nbformat": 4
 },
 "nbformat": 4,
 "nbformat_minor": 2
}
