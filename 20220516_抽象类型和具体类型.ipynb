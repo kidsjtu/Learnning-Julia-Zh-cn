{
 "cells": [
  {
   "cell_type": "markdown",
   "metadata": {},
   "source": [
    "# 2022年5月16日 Julia 学习笔记\n",
    "## 设计抽象类型和具体类型\n",
    "### 设计抽象类型\n",
    "父类型-子类型，术语：超类型-子类型\n",
    "抽象类型仅用于为一组对象的行为建模，而不用与指定数据的存储方式。\n",
    "创建抽象类型层次结构\n",
    "- 资产Asset\n",
    "  - 财产Property\n",
    "    - 房屋House\n",
    "    - 公寓Apartment\n",
    "  - 投资Investment\n",
    "      - 固定收益FixedIncome\n",
    "      - 股权Equity\n",
    "  - 现金Cash\n",
    "上述结构，使用以下代码创建："
   ]
  },
  {
   "cell_type": "code",
   "execution_count": 39,
   "metadata": {},
   "outputs": [],
   "source": [
    "abstract type Asset end\n",
    "\n",
    "abstract type Property <: Asset end\n",
    "abstract type Investment <: Asset end\n",
    "abstract type Cash <: Asset end\n",
    "\n",
    "abstract type House <: Property end\n",
    "abstract type Apartment <: Property end\n",
    "\n",
    "abstract type FixedIncome <: Investment end\n",
    "abstract type Equity <: Investment end"
   ]
  },
  {
   "cell_type": "markdown",
   "metadata": {},
   "source": [
    "<:符号表示超类型-子类关系，因此Property是Asset的子类型，Equity是Investment的子类。事实上，Asset有一个称为Any的超类型，Any是Julia中的顶级超类型。Julia提供了一些方便的函数来导航类型层次结构，比如subtypes函数。"
   ]
  },
  {
   "cell_type": "code",
   "execution_count": 40,
   "metadata": {},
   "outputs": [
    {
     "data": {
      "text/plain": [
       "3-element Vector{Any}:\n",
       " Cash\n",
       " Investment\n",
       " Property"
      ]
     },
     "execution_count": 40,
     "metadata": {},
     "output_type": "execute_result"
    }
   ],
   "source": [
    "subtypes(Asset)"
   ]
  },
  {
   "cell_type": "code",
   "execution_count": 41,
   "metadata": {},
   "outputs": [
    {
     "data": {
      "text/plain": [
       "Investment"
      ]
     },
     "execution_count": 41,
     "metadata": {},
     "output_type": "execute_result"
    }
   ],
   "source": [
    "supertype(Equity)"
   ]
  },
  {
   "cell_type": "markdown",
   "metadata": {},
   "source": [
    "以树形格式查看完整层次结构，没有提供现成的标准函数，可以自己用递归创建一个，如下所示"
   ]
  },
  {
   "cell_type": "code",
   "execution_count": 42,
   "metadata": {},
   "outputs": [
    {
     "data": {
      "text/plain": [
       "subtypetree (generic function with 3 methods)"
      ]
     },
     "execution_count": 42,
     "metadata": {},
     "output_type": "execute_result"
    }
   ],
   "source": [
    "function subtypetree(roottype,level = 1, indent = 4)\n",
    "    level == 1 && println(roottype)\n",
    "    for s in subtypes(roottype)\n",
    "        println(join(fill(\" \", level * indent)) * string(s))\n",
    "        subtypetree(s, level + 1, indent)\n",
    "    end\n",
    "end"
   ]
  },
  {
   "cell_type": "code",
   "execution_count": 43,
   "metadata": {},
   "outputs": [
    {
     "name": "stdout",
     "output_type": "stream",
     "text": [
      "Asset\n",
      "    Cash\n",
      "    Investment\n",
      "        Equity\n",
      "            Stock\n",
      "            mStock\n",
      "        FixedIncome\n",
      "    Property\n",
      "        Apartment\n",
      "        House\n"
     ]
    }
   ],
   "source": [
    "subtypetree(Asset)"
   ]
  },
  {
   "cell_type": "markdown",
   "metadata": {},
   "source": [
    "#### 定义抽象类型的函数\n",
    "##### 描述函数"
   ]
  },
  {
   "cell_type": "code",
   "execution_count": 44,
   "metadata": {},
   "outputs": [
    {
     "data": {
      "text/plain": [
       "describe (generic function with 4 methods)"
      ]
     },
     "execution_count": 44,
     "metadata": {},
     "output_type": "execute_result"
    }
   ],
   "source": [
    "# simple functions on abstract types\n",
    "describe(a::Asset) = \"Something valuable\"\n",
    "describe(e::Investment) = \"Finacial investment\"\n",
    "describe(e::Property) = \"Physical property\""
   ]
  },
  {
   "cell_type": "markdown",
   "metadata": {},
   "source": [
    "由于尚未定义任何具体类型，因此无法证明Cahs对象的describe函数将使用describe(a::Asset)方法。"
   ]
  },
  {
   "cell_type": "markdown",
   "metadata": {},
   "source": [
    "##### 函数行为\n",
    "\n",
    "具有层次结构的原因是为了创建有关类型的常见行为的抽象。例如：Apartment和House类型具有相同的超类型Property。有意这么继承是因为他们都代表特定位置的某种物理住所。因此可以定义函数如下："
   ]
  },
  {
   "cell_type": "code",
   "execution_count": 45,
   "metadata": {},
   "outputs": [
    {
     "data": {
      "text/plain": [
       "location"
      ]
     },
     "execution_count": 45,
     "metadata": {},
     "output_type": "execute_result"
    }
   ],
   "source": [
    "\"\"\"\n",
    "location(p::Property)\n",
    "Returns the location of the property as a tuple of (latitude, longitude).\n",
    "\"\"\"\n",
    "location(p::Property) = error(\"Location is not defined in the concrete type\")"
   ]
  },
  {
   "cell_type": "markdown",
   "metadata": {},
   "source": [
    "上述函数只实现了返回错误一个功能，定义此函数的实际目的有以下：\n",
    "- Property的任何具体子类型都必须实现location函数\n",
    "- 如果没有为相应的具体类型定义location函数，则运行时将调用此特定函数并抛出合理错误，一边后续修改bug\n",
    "- 函数定义上方的文档字符串包含有用的描述，即Property的具体子类型实现。\n",
    "另外，还可以定义一个空函数："
   ]
  },
  {
   "cell_type": "code",
   "execution_count": 46,
   "metadata": {},
   "outputs": [
    {
     "data": {
      "text/plain": [
       "location"
      ]
     },
     "execution_count": 46,
     "metadata": {},
     "output_type": "execute_result"
    }
   ],
   "source": [
    "\"\"\"\n",
    "location(p::Property)\n",
    "Returns the location of the property as a tuple of (latitude, longitude).\n",
    "\"\"\"\n",
    "function location(p::Property) end"
   ]
  },
  {
   "cell_type": "markdown",
   "metadata": {},
   "source": [
    "空函数，如果具体类型不实现该函数，则不会出现运行时错误。\n",
    "##### 对象之间的相互作用\n",
    "\n",
    "知道了每个Property都有一个位置，可以定义一个函数来计算两个财产之间的步行距离："
   ]
  },
  {
   "cell_type": "code",
   "execution_count": 47,
   "metadata": {},
   "outputs": [
    {
     "data": {
      "text/plain": [
       "walking_distance (generic function with 1 method)"
      ]
     },
     "execution_count": 47,
     "metadata": {},
     "output_type": "execute_result"
    }
   ],
   "source": [
    "function walking_distance(p1::Property, p2::Property)\n",
    "    loc1 = location(p1)\n",
    "    loc2 = location(p2)\n",
    "    return abs(loc1.x - loc2.x) + abs(loc1.y - loc2.y)\n",
    "end"
   ]
  },
  {
   "cell_type": "markdown",
   "metadata": {},
   "source": [
    "可以看到，逻辑完全存在于抽象类型中，我们甚至都没有定义任何具体类型，但是能够开发通用代码，适用于以后的Property任何具体子类型。\n",
    "\n",
    "### 设计具体类型\n",
    "具体类型用于定义数据的组织方式，有以下两种：\n",
    "- 原始类型\n",
    "- 复合类型\n",
    "\n",
    "复合类型由一组命名字段定义。将字段分组为单一类型可简化推理、共享和操作。\n",
    "\n",
    "**复合类型**可以指定为特定的超类型，也可以默认为Any。\n",
    "\n",
    "若需要，还可以用字段自己的类型来注释字段，并且类型可以是抽象的也可以是具体的。如果缺少字段类型信息，则默认为Any，表示该字段可以容纳任何类型的对象。\n",
    "\n",
    "#### 设计复合类型\n",
    "复合类型使用struct关键字定义。\n",
    "比如，创建以下类型Stock来表示股票的交易代码(symbol)和名称(name):"
   ]
  },
  {
   "cell_type": "code",
   "execution_count": 48,
   "metadata": {},
   "outputs": [],
   "source": [
    "struct Stock <: Equity \n",
    "    symbol::String\n",
    "    name::String\n",
    "end"
   ]
  },
  {
   "cell_type": "markdown",
   "metadata": {},
   "source": [
    "可以使用标准构造函数实例化复合类型，该构造函数将所有字段用作参数："
   ]
  },
  {
   "cell_type": "code",
   "execution_count": 49,
   "metadata": {},
   "outputs": [
    {
     "data": {
      "text/plain": [
       "Stock(\"APPL\", \"Apple, Inc.\")"
      ]
     },
     "execution_count": 49,
     "metadata": {},
     "output_type": "execute_result"
    }
   ],
   "source": [
    "stock = Stock(\"APPL\", \"Apple, Inc.\")"
   ]
  },
  {
   "cell_type": "code",
   "execution_count": 50,
   "metadata": {},
   "outputs": [
    {
     "data": {
      "text/plain": [
       "\"APPL(Apple, Inc.)\""
      ]
     },
     "execution_count": 50,
     "metadata": {},
     "output_type": "execute_result"
    }
   ],
   "source": [
    "describe(stock)"
   ]
  },
  {
   "cell_type": "markdown",
   "metadata": {},
   "source": [
    "可以看到，缺省情况下，Stock由超类型Equity的超类型Investment来调用。可以通过定义describe函数来实现具体描述："
   ]
  },
  {
   "cell_type": "code",
   "execution_count": 51,
   "metadata": {},
   "outputs": [
    {
     "data": {
      "text/plain": [
       "describe (generic function with 4 methods)"
      ]
     },
     "execution_count": 51,
     "metadata": {},
     "output_type": "execute_result"
    }
   ],
   "source": [
    "function describe(s::Stock)\n",
    "    return s.symbol * \"(\" * s.name * \")\"\n",
    "end"
   ]
  },
  {
   "cell_type": "code",
   "execution_count": 52,
   "metadata": {},
   "outputs": [
    {
     "data": {
      "text/plain": [
       "\"APPL(Apple, Inc.)\""
      ]
     },
     "execution_count": 52,
     "metadata": {},
     "output_type": "execute_result"
    }
   ],
   "source": [
    "describe(stock)"
   ]
  },
  {
   "cell_type": "markdown",
   "metadata": {},
   "source": [
    "再次运行describe可以发现函数返回结果已经改变。\n",
    "\n",
    "##### 不可变性\n",
    "\n",
    "不可变性消除了由于数据修改而导致系统行为意外更改时的意外情况。比如下面这样的程序，会报错。"
   ]
  },
  {
   "cell_type": "code",
   "execution_count": 53,
   "metadata": {},
   "outputs": [
    {
     "ename": "LoadError",
     "evalue": "setfield!: immutable struct of type Stock cannot be changed",
     "output_type": "error",
     "traceback": [
      "setfield!: immutable struct of type Stock cannot be changed",
      "",
      "Stacktrace:",
      " [1] setproperty!(x::Stock, f::Symbol, v::String)",
      "   @ Base .\\Base.jl:43",
      " [2] top-level scope",
      "   @ In[53]:1",
      " [3] eval",
      "   @ .\\boot.jl:373 [inlined]",
      " [4] include_string(mapexpr::typeof(REPL.softscope), mod::Module, code::String, filename::String)",
      "   @ Base .\\loading.jl:1196"
     ]
    }
   ],
   "source": [
    "stock.name = \"Apple LLC\""
   ]
  },
  {
   "cell_type": "markdown",
   "metadata": {},
   "source": [
    "不可变性实际上最多保证到字段级别，如果某个类型包含一个字段，并且该字段自己的类型是可变的，则允许更改基础数据。比如，创建一个成为BasketOfStocks的新复合类型，用于保存股票数组及持有股票的原因："
   ]
  },
  {
   "cell_type": "code",
   "execution_count": null,
   "metadata": {},
   "outputs": [],
   "source": [
    "struct BasketOfStocks\n",
    "    stocks::Vector{Stock}\n",
    "    reason::String\n",
    "end"
   ]
  },
  {
   "cell_type": "code",
   "execution_count": null,
   "metadata": {},
   "outputs": [
    {
     "data": {
      "text/plain": [
       "BasketOfStocks(Stock[Stock(\"APPL\", \"Apple, Inc.\"), Stock(\"IBM\", \"IBM\")], \"Anniversary gift for my wife\")"
      ]
     },
     "execution_count": 21,
     "metadata": {},
     "output_type": "execute_result"
    }
   ],
   "source": [
    "many_stocks = [\n",
    "    Stock(\"APPL\", \"Apple, Inc.\"),\n",
    "    Stock(\"IBM\", \"IBM\")\n",
    "]\n",
    "basket = BasketOfStocks(many_stocks, \"Anniversary gift for my wife\")"
   ]
  },
  {
   "cell_type": "code",
   "execution_count": null,
   "metadata": {},
   "outputs": [
    {
     "data": {
      "text/plain": [
       "Stock(\"IBM\", \"IBM\")"
      ]
     },
     "execution_count": 22,
     "metadata": {},
     "output_type": "execute_result"
    }
   ],
   "source": [
    "pop!(basket.stocks)"
   ]
  },
  {
   "cell_type": "code",
   "execution_count": null,
   "metadata": {},
   "outputs": [
    {
     "data": {
      "text/plain": [
       "BasketOfStocks(Stock[Stock(\"APPL\", \"Apple, Inc.\")], \"Anniversary gift for my wife\")"
      ]
     },
     "execution_count": 23,
     "metadata": {},
     "output_type": "execute_result"
    }
   ],
   "source": [
    "basket"
   ]
  },
  {
   "cell_type": "markdown",
   "metadata": {},
   "source": [
    "可以发现，函数可以直接作用与stock对象，因此**不可变性对基础字段是没有任何影响的**。\n",
    "##### 可变性\n",
    "在某些情况下，我们实际上可能希望对象是可变的。只需在类型定义前面添加mutable关键字，即可轻松取消的不可变性的约束。比如，为了使Stock类型可变，可以执行以下操作："
   ]
  },
  {
   "cell_type": "code",
   "execution_count": null,
   "metadata": {},
   "outputs": [],
   "source": [
    "mutable struct mStock <: Equity \n",
    "    symbol::String\n",
    "    name::String\n",
    "end"
   ]
  },
  {
   "cell_type": "code",
   "execution_count": null,
   "metadata": {},
   "outputs": [
    {
     "data": {
      "text/plain": [
       "mStock(\"APPL\", \"Apple, Inc.\")"
      ]
     },
     "execution_count": 25,
     "metadata": {},
     "output_type": "execute_result"
    }
   ],
   "source": [
    "mstock = mStock(\"APPL\", \"Apple, Inc.\")"
   ]
  },
  {
   "cell_type": "code",
   "execution_count": null,
   "metadata": {},
   "outputs": [
    {
     "data": {
      "text/plain": [
       "\"Apple LLC\""
      ]
     },
     "execution_count": 26,
     "metadata": {},
     "output_type": "execute_result"
    }
   ],
   "source": [
    "mstock.name = \"Apple LLC\""
   ]
  },
  {
   "cell_type": "code",
   "execution_count": null,
   "metadata": {},
   "outputs": [
    {
     "data": {
      "text/plain": [
       "mStock(\"APPL\", \"Apple LLC\")"
      ]
     },
     "execution_count": 27,
     "metadata": {},
     "output_type": "execute_result"
    }
   ],
   "source": [
    "mstock"
   ]
  },
  {
   "cell_type": "markdown",
   "metadata": {},
   "source": [
    "##### 可变还是不可变\n",
    "\n",
    "通常情况下不希望默认可变，主要原因：\n",
    "1. 不可变的对象更易于处理。\n",
    "2. 可变对象在多线程应用程序中更难以使用。\n",
    "\n",
    "##### 使用Union类型支持多种类型\n",
    "当需要合并来自不同数据类型层次结构的数据类型时，Union类型非常有用。"
   ]
  },
  {
   "cell_type": "code",
   "execution_count": null,
   "metadata": {},
   "outputs": [],
   "source": [
    "abstract type Art end\n",
    "\n",
    "struct Painting <: Art\n",
    "    artist::String\n",
    "    title::String\n",
    "end"
   ]
  },
  {
   "cell_type": "markdown",
   "metadata": {},
   "source": [
    "可以将Stock和Painting两种类型进行组合，如下所示："
   ]
  },
  {
   "cell_type": "code",
   "execution_count": null,
   "metadata": {},
   "outputs": [],
   "source": [
    "struct BasketOfThings\n",
    "    things::Vector{Union{Painting, Stock}}\n",
    "    reason::String\n",
    "end"
   ]
  },
  {
   "cell_type": "code",
   "execution_count": null,
   "metadata": {},
   "outputs": [
    {
     "data": {
      "text/plain": [
       "Stock(\"APPL\", \"Apple, Inc.\")"
      ]
     },
     "execution_count": 30,
     "metadata": {},
     "output_type": "execute_result"
    }
   ],
   "source": [
    "stock = Stock(\"APPL\", \"Apple, Inc.\")"
   ]
  },
  {
   "cell_type": "code",
   "execution_count": null,
   "metadata": {},
   "outputs": [
    {
     "data": {
      "text/plain": [
       "Painting(\"Leonardo da Vinci\", \"Monalisa\")"
      ]
     },
     "execution_count": 31,
     "metadata": {},
     "output_type": "execute_result"
    }
   ],
   "source": [
    "monalisa = Painting(\"Leonardo da Vinci\", \"Monalisa\")"
   ]
  },
  {
   "cell_type": "code",
   "execution_count": null,
   "metadata": {},
   "outputs": [
    {
     "data": {
      "text/plain": [
       "2-element Vector{Union{Painting, Stock}}:\n",
       " Stock(\"APPL\", \"Apple, Inc.\")\n",
       " Painting(\"Leonardo da Vinci\", \"Monalisa\")"
      ]
     },
     "execution_count": 32,
     "metadata": {},
     "output_type": "execute_result"
    }
   ],
   "source": [
    "things = Union{Painting, Stock}[stock, monalisa]"
   ]
  },
  {
   "cell_type": "code",
   "execution_count": null,
   "metadata": {},
   "outputs": [
    {
     "data": {
      "text/plain": [
       "BasketOfThings(Union{Painting, Stock}[Stock(\"APPL\", \"Apple, Inc.\"), Painting(\"Leonardo da Vinci\", \"Monalisa\")], \"Anniversary gift for my wife\")"
      ]
     },
     "execution_count": 33,
     "metadata": {},
     "output_type": "execute_result"
    }
   ],
   "source": [
    "present = BasketOfThings(things, \"Anniversary gift for my wife\")"
   ]
  },
  {
   "cell_type": "markdown",
   "metadata": {},
   "source": [
    "Union类型的语法可能非常冗长，尤其是存在两种以上类型时，因此使用定义了代表Union类型的有意义名称的常量是很常见的："
   ]
  },
  {
   "cell_type": "code",
   "execution_count": null,
   "metadata": {},
   "outputs": [],
   "source": [
    "const Thing = Union{Painting, Stock}\n",
    "\n",
    "struct tBasketOfThings\n",
    "    thing::Vector{Thing}\n",
    "    reason::String\n",
    "end"
   ]
  },
  {
   "cell_type": "markdown",
   "metadata": {},
   "source": [
    "Thing比Union{Painting, Stock}更容易阅读，并且可以在很多地方引用，当后续需要添加更多类型时，只需要在定义处更改一次，因此维护代码可以更加轻松。\n",
    "\n",
    "### 使用类型运算符\n",
    "#### isa运算符\n",
    "isa运算符可以用于确定某个值是否是类型的子类型，比如："
   ]
  },
  {
   "cell_type": "code",
   "execution_count": null,
   "metadata": {},
   "outputs": [
    {
     "data": {
      "text/plain": [
       "true"
      ]
     },
     "execution_count": 35,
     "metadata": {},
     "output_type": "execute_result"
    }
   ],
   "source": [
    "1 isa Int"
   ]
  },
  {
   "cell_type": "code",
   "execution_count": null,
   "metadata": {},
   "outputs": [
    {
     "data": {
      "text/plain": [
       "true"
      ]
     },
     "execution_count": 36,
     "metadata": {},
     "output_type": "execute_result"
    }
   ],
   "source": [
    "1 isa Real"
   ]
  },
  {
   "cell_type": "code",
   "execution_count": null,
   "metadata": {},
   "outputs": [
    {
     "data": {
      "text/plain": [
       "false"
      ]
     },
     "execution_count": 37,
     "metadata": {},
     "output_type": "execute_result"
    }
   ],
   "source": [
    "1 isa Float64"
   ]
  },
  {
   "cell_type": "markdown",
   "metadata": {},
   "source": [
    "isa运算符对于检查接受泛型类型参数的函数中的类型很有用。\n",
    "#### <:运算符\n",
    "用于确定某个类型是否为另一种类型的子类型。"
   ]
  },
  {
   "cell_type": "code",
   "execution_count": null,
   "metadata": {},
   "outputs": [
    {
     "data": {
      "text/plain": [
       "true"
      ]
     },
     "execution_count": 38,
     "metadata": {},
     "output_type": "execute_result"
    }
   ],
   "source": [
    "Int <: Real"
   ]
  },
  {
   "cell_type": "markdown",
   "metadata": {},
   "source": [
    "isa根据类型检查一个变量是否是该类型，检查的对象是变量。\n",
    "<:检查的对象仍然是类型。"
   ]
  },
  {
   "cell_type": "markdown",
   "metadata": {},
   "source": [
    "1. 可以用于检验传递参数有无正确类型。\n",
    "2. 根据传递给函数的参数类型动态地执行不同逻辑。\n",
    "\n",
    "### 抽象类型和具体类型的差异\n",
    "\n",
    "| 问题 | 抽象类型 | 具体类型 |\n",
    "|------|---------|---------|\n",
    "| 有子类型么？| 有 | 有 |\n",
    "|允许子类型么？| 允许 | 不允许 |\n",
    "|包含数据字段么？| 不包含 | 包含 |\n",
    "| 第一类实体？ | 是 | 是 |\n",
    "|可以作为Union类型么？| 可以 | 可以 |\n"
   ]
  },
  {
   "cell_type": "markdown",
   "metadata": {},
   "source": [
    "抽象类型表示概念，而不是数据存储。是第一类实体的，可以存储和传递，并且可以使用它们的函数。\n",
    "\n",
    "具体类型与抽象类型作为超类型相关联。如果未指定超类型，则假定为Any。具体类型不允许子类型，因此每个具体类型必须是最终类型，并且将是类型层次结构中的叶节点。\n",
    "\n",
    "Union类型可以引用抽象类型和具体类型。"
   ]
  }
 ],
 "metadata": {
  "kernelspec": {
   "display_name": "Julia 1.7.0",
   "language": "julia",
   "name": "julia-1.7"
  },
  "language_info": {
   "file_extension": ".jl",
   "mimetype": "application/julia",
   "name": "julia",
   "version": "1.7.0"
  },
  "orig_nbformat": 4
 },
 "nbformat": 4,
 "nbformat_minor": 2
}
