{
 "cells": [
  {
   "cell_type": "markdown",
   "metadata": {},
   "source": [
    "# 第3章 设计函数和接口\n",
    "- 函数\n",
    "- 多重分派\n",
    "- 参数化方法\n",
    "- 接口"
   ]
  },
  {
   "cell_type": "markdown",
   "metadata": {},
   "source": [
    "## 3.2 设计函数\n",
    "Julia的工作方式更像是过程/函数式编程语言，而不是面向对象的编程语言。\n",
    "### 3.2.1 游戏代码"
   ]
  },
  {
   "cell_type": "code",
   "execution_count": 1,
   "metadata": {},
   "outputs": [],
   "source": [
    "mutable struct Position\n",
    "    x::Int\n",
    "    y::Int\n",
    "end\n",
    "\n",
    "struct Size\n",
    "    width::Int\n",
    "    height::Int\n",
    "end\n",
    "\n",
    "struct Widget\n",
    "    name::String\n",
    "    position::Position\n",
    "    size::Size\n",
    "end"
   ]
  },
  {
   "cell_type": "markdown",
   "metadata": {},
   "source": [
    "### 3.2.3 定义函数\n",
    "实际上可以用两种不同语法来定义一个函数：\n",
    "1. 简单的单行代码，包含函数签名和主体\n",
    "2. 使用带有签名的function关键字，然后是代码块和end关键字。"
   ]
  },
  {
   "cell_type": "code",
   "execution_count": 38,
   "metadata": {},
   "outputs": [
    {
     "data": {
      "text/plain": [
       "move_right! (generic function with 1 method)"
      ]
     },
     "metadata": {},
     "output_type": "display_data"
    }
   ],
   "source": [
    "# single-line functions\n",
    "move_up!(widget, v)  = widget.position.y -= v\n",
    "move_down!(widget, v) = widget.position.y += v\n",
    "# long version\n",
    "function move_left!(widget, v)\n",
    "    widget.position.x -= v\n",
    "end\n",
    "function move_right!(widget, v)\n",
    "    widget.position.x += v\n",
    "end\n"
   ]
  },
  {
   "cell_type": "markdown",
   "metadata": {},
   "source": [
    "#### **函数编写注意事项**\n",
    "1. **下划线**用于函数名中分隔单词，Julia官方手册约定单词连在一起，不需要分隔，除非太混乱难以阅读，作者认为下划线能增强可读性。\n",
    "2. **感叹号**用来定义函数能够改变传递到自身的参数。\n",
    "3. **鸭子类型？**神特么鸭子类型。 在上述函数中，虽然未限制类型，但是希望使用时widget参数具有Widget类型，而v具有Int类型。3.2.3节会讨论。\n",
    "\n",
    "### 3.2.3 注释函数参数\n",
    "#### 无类型参数\n",
    "无类型并不能真正与每种可能的数据类型一起使用，并且，通常可能会导致模糊的异常消息。比如如果将Int值作为Widget参数传递给move_up!函数，那么将报错：Int64没有position字段。这种模糊报错非常不利于调试。"
   ]
  },
  {
   "cell_type": "code",
   "execution_count": 4,
   "metadata": {},
   "outputs": [
    {
     "ename": "ErrorException",
     "evalue": "type Int64 has no field position",
     "output_type": "error",
     "traceback": [
      "type Int64 has no field position\n",
      "\n",
      "Stacktrace:\n",
      "  [1] getproperty\n",
      "    @ ./Base.jl:42 [inlined]\n",
      "  [2] move_up!(widget::Int64, v::Int64)\n",
      "    @ Main ~/coding/learning-julia/20220530_设计函数和接口.ipynb:2\n",
      "  [3] top-level scope\n",
      "    @ ~/coding/learning-julia/20220530_设计函数和接口.ipynb:1\n",
      "  [4] eval\n",
      "    @ ./boot.jl:373 [inlined]\n",
      "  [5] include_string(mapexpr::typeof(REPL.softscope), mod::Module, code::String, filename::String)\n",
      "    @ Base ./loading.jl:1196\n",
      "  [6] #invokelatest#2\n",
      "    @ ./essentials.jl:716 [inlined]\n",
      "  [7] invokelatest\n",
      "    @ ./essentials.jl:714 [inlined]\n",
      "  [8] (::VSCodeServer.var\"#164#165\"{VSCodeServer.NotebookRunCellArguments, String})()\n",
      "    @ VSCodeServer ~/.vscode/extensions/julialang.language-julia-1.6.17/scripts/packages/VSCodeServer/src/serve_notebook.jl:19\n",
      "  [9] withpath(f::VSCodeServer.var\"#164#165\"{VSCodeServer.NotebookRunCellArguments, String}, path::String)\n",
      "    @ VSCodeServer ~/.vscode/extensions/julialang.language-julia-1.6.17/scripts/packages/VSCodeServer/src/repl.jl:184\n",
      " [10] notebook_runcell_request(conn::VSCodeServer.JSONRPC.JSONRPCEndpoint{Base.PipeEndpoint, Base.PipeEndpoint}, params::VSCodeServer.NotebookRunCellArguments)\n",
      "    @ VSCodeServer ~/.vscode/extensions/julialang.language-julia-1.6.17/scripts/packages/VSCodeServer/src/serve_notebook.jl:13\n",
      " [11] dispatch_msg(x::VSCodeServer.JSONRPC.JSONRPCEndpoint{Base.PipeEndpoint, Base.PipeEndpoint}, dispatcher::VSCodeServer.JSONRPC.MsgDispatcher, msg::Dict{String, Any})\n",
      "    @ VSCodeServer.JSONRPC ~/.vscode/extensions/julialang.language-julia-1.6.17/scripts/packages/JSONRPC/src/typed.jl:67\n",
      " [12] serve_notebook(pipename::String, outputchannel_logger::Base.CoreLogging.SimpleLogger; crashreporting_pipename::String)\n",
      "    @ VSCodeServer ~/.vscode/extensions/julialang.language-julia-1.6.17/scripts/packages/VSCodeServer/src/serve_notebook.jl:136\n",
      " [13] top-level scope\n",
      "    @ ~/.vscode/extensions/julialang.language-julia-1.6.17/scripts/notebook/notebook.jl:32\n",
      " [14] include(mod::Module, _path::String)\n",
      "    @ Base ./Base.jl:418\n",
      " [15] exec_options(opts::Base.JLOptions)\n",
      "    @ Base ./client.jl:292\n",
      " [16] _start()\n",
      "    @ Base ./client.jl:495"
     ]
    }
   ],
   "source": [
    "move_up!(1, 2)"
   ]
  },
  {
   "cell_type": "markdown",
   "metadata": {},
   "source": [
    "#### 类型化参数\n",
    "使用一些类型信息来定义函数，通常更安全。比如："
   ]
  },
  {
   "cell_type": "code",
   "execution_count": 39,
   "metadata": {},
   "outputs": [
    {
     "ename": "ErrorException",
     "evalue": "type Int64 has no field position",
     "output_type": "error",
     "traceback": [
      "type Int64 has no field position\n",
      "\n",
      "Stacktrace:\n",
      "  [1] getproperty\n",
      "    @ ./Base.jl:42 [inlined]\n",
      "  [2] move_up!(widget::Int64, v::Int64)\n",
      "    @ Main ~/coding/learning-julia/20220530_设计函数和接口.ipynb:2\n",
      "  [3] top-level scope\n",
      "    @ ~/coding/learning-julia/20220530_设计函数和接口.ipynb:2\n",
      "  [4] eval\n",
      "    @ ./boot.jl:373 [inlined]\n",
      "  [5] include_string(mapexpr::typeof(REPL.softscope), mod::Module, code::String, filename::String)\n",
      "    @ Base ./loading.jl:1196\n",
      "  [6] #invokelatest#2\n",
      "    @ ./essentials.jl:716 [inlined]\n",
      "  [7] invokelatest\n",
      "    @ ./essentials.jl:714 [inlined]\n",
      "  [8] (::VSCodeServer.var\"#164#165\"{VSCodeServer.NotebookRunCellArguments, String})()\n",
      "    @ VSCodeServer ~/.vscode/extensions/julialang.language-julia-1.6.17/scripts/packages/VSCodeServer/src/serve_notebook.jl:19\n",
      "  [9] withpath(f::VSCodeServer.var\"#164#165\"{VSCodeServer.NotebookRunCellArguments, String}, path::String)\n",
      "    @ VSCodeServer ~/.vscode/extensions/julialang.language-julia-1.6.17/scripts/packages/VSCodeServer/src/repl.jl:184\n",
      " [10] notebook_runcell_request(conn::VSCodeServer.JSONRPC.JSONRPCEndpoint{Base.PipeEndpoint, Base.PipeEndpoint}, params::VSCodeServer.NotebookRunCellArguments)\n",
      "    @ VSCodeServer ~/.vscode/extensions/julialang.language-julia-1.6.17/scripts/packages/VSCodeServer/src/serve_notebook.jl:13\n",
      " [11] dispatch_msg(x::VSCodeServer.JSONRPC.JSONRPCEndpoint{Base.PipeEndpoint, Base.PipeEndpoint}, dispatcher::VSCodeServer.JSONRPC.MsgDispatcher, msg::Dict{String, Any})\n",
      "    @ VSCodeServer.JSONRPC ~/.vscode/extensions/julialang.language-julia-1.6.17/scripts/packages/JSONRPC/src/typed.jl:67\n",
      " [12] serve_notebook(pipename::String, outputchannel_logger::Base.CoreLogging.SimpleLogger; crashreporting_pipename::String)\n",
      "    @ VSCodeServer ~/.vscode/extensions/julialang.language-julia-1.6.17/scripts/packages/VSCodeServer/src/serve_notebook.jl:136\n",
      " [13] top-level scope\n",
      "    @ ~/.vscode/extensions/julialang.language-julia-1.6.17/scripts/notebook/notebook.jl:32\n",
      " [14] include(mod::Module, _path::String)\n",
      "    @ Base ./Base.jl:418\n",
      " [15] exec_options(opts::Base.JLOptions)\n",
      "    @ Base ./client.jl:292\n",
      " [16] _start()\n",
      "    @ Base ./client.jl:495"
     ]
    }
   ],
   "source": [
    "move_up!(widget::Widget, v::Int) = widget.position.y -= v\n",
    "move_up!(1, 2)"
   ]
  },
  {
   "cell_type": "markdown",
   "metadata": {},
   "source": [
    "可以看到，这时再用错误方式调用函数，则会受到一条更加明确的错误信息。\n",
    "定义以下show函数："
   ]
  },
  {
   "cell_type": "code",
   "execution_count": 40,
   "metadata": {},
   "outputs": [],
   "source": [
    "# Define pretty print functions\n",
    "Base.show(io::IO, p::Position) = print(io, \"(\", p.x, \",\", p.y, \")\")\n",
    "Base.show(io::IO, s::Size) = print(io, s.width, \" x \", s.height)\n",
    "Base.show(io::IO, w::Widget) = print(io, w.name, \" at \", w.position, \"size\", w.size)"
   ]
  },
  {
   "cell_type": "markdown",
   "metadata": {},
   "source": [
    "测试如下："
   ]
  },
  {
   "cell_type": "code",
   "execution_count": 41,
   "metadata": {},
   "outputs": [
    {
     "name": "stdout",
     "output_type": "stream",
     "text": [
      "asteroid at (0,-10)size10 x 20\n"
     ]
    },
    {
     "name": "stdout",
     "output_type": "stream",
     "text": [
      "asteroid at (0,0)size10 x 20\n",
      "asteroid at (-10,0)size10 x 20\n",
      "asteroid at (0,0)size10 x 20\n"
     ]
    }
   ],
   "source": [
    "# let's test these functions\n",
    "w = Widget(\"asteroid\", Position(0, 0), Size(10,20))\n",
    "move_up!(w, 10)\n",
    "println(w)\n",
    "move_down!(w, 10)\n",
    "println(w)\n",
    "move_left!(w, 10)\n",
    "println(w)\n",
    "move_right!(w, 10)\n",
    "println(w)"
   ]
  },
  {
   "cell_type": "markdown",
   "metadata": {},
   "source": [
    "### 3.2.4 使用可选参数\n",
    "Julia中，可以为参数提供默认值，当具有默认值时，参数将变为可选的。比如，以下是一个随机生成一堆小行星的函数："
   ]
  },
  {
   "cell_type": "code",
   "execution_count": 42,
   "metadata": {},
   "outputs": [
    {
     "data": {
      "text/plain": [
       "make_asteroids (generic function with 3 methods)"
      ]
     },
     "metadata": {},
     "output_type": "display_data"
    }
   ],
   "source": [
    "# Make a bunch of asteroids\n",
    "function make_asteroids(N::Int, pos_range = 0:200, size_range = 10:30)\n",
    "    pos_rand() = rand(pos_range) # 这里为什么要加()，直接定一个pos_rand不可以么？\n",
    "    sz_rand() = rand(size_range)\n",
    "    return[Widget(\"Asteroid #$i\", Position(pos_rand(), pos_rand()), Size(sz_rand(), sz_rand()))\n",
    "    for i in 1:N]\n",
    "end"
   ]
  },
  {
   "cell_type": "markdown",
   "metadata": {},
   "source": [
    "可以看到，自动生成三个不同的函数。"
   ]
  },
  {
   "cell_type": "code",
   "execution_count": 9,
   "metadata": {},
   "outputs": [
    {
     "data": {
      "text/plain": [
       "10-element Vector{Widget}:\n",
       " Asteroid #1 at (143,3)size21 x 25\n",
       " Asteroid #2 at (154,165)size17 x 17\n",
       " Asteroid #3 at (47,38)size30 x 16\n",
       " Asteroid #4 at (191,54)size30 x 16\n",
       " Asteroid #5 at (60,7)size24 x 18\n",
       " Asteroid #6 at (179,171)size28 x 24\n",
       " Asteroid #7 at (79,40)size11 x 18\n",
       " Asteroid #8 at (92,95)size24 x 20\n",
       " Asteroid #9 at (1,59)size18 x 26\n",
       " Asteroid #10 at (161,72)size21 x 25"
      ]
     },
     "metadata": {},
     "output_type": "display_data"
    }
   ],
   "source": [
    "make_asteroids(10)"
   ]
  },
  {
   "cell_type": "code",
   "execution_count": 10,
   "metadata": {},
   "outputs": [
    {
     "data": {
      "text/plain": [
       "5-element Vector{Widget}:\n",
       " Asteroid #1 at (10,8)size10 x 12\n",
       " Asteroid #2 at (8,3)size16 x 29\n",
       " Asteroid #3 at (8,3)size17 x 26\n",
       " Asteroid #4 at (5,1)size23 x 27\n",
       " Asteroid #5 at (6,2)size19 x 14"
      ]
     },
     "metadata": {},
     "output_type": "display_data"
    }
   ],
   "source": [
    "make_asteroids(5, 1:10)"
   ]
  },
  {
   "cell_type": "code",
   "execution_count": 11,
   "metadata": {},
   "outputs": [
    {
     "data": {
      "text/plain": [
       "6-element Vector{Widget}:\n",
       " Asteroid #1 at (3,8)size2 x 3\n",
       " Asteroid #2 at (6,8)size4 x 4\n",
       " Asteroid #3 at (9,1)size5 x 4\n",
       " Asteroid #4 at (6,9)size2 x 3\n",
       " Asteroid #5 at (9,9)size3 x 1\n",
       " Asteroid #6 at (3,7)size2 x 5"
      ]
     },
     "metadata": {},
     "output_type": "display_data"
    }
   ],
   "source": [
    "make_asteroids(6, 1:10, 1:5)"
   ]
  },
  {
   "cell_type": "markdown",
   "metadata": {},
   "source": [
    "上述代码后面两个参数很容易混掉，调用时必须要注意定义顺序，参数更多时，可读性会变差。因此，可以使用关键字参数。\n",
    "\n",
    "### 3.2.5 使用关键字参数\n",
    "与之前函数的唯一区别是一个字符，位置参数和关键字参数用;分号分隔，而不再是逗号。"
   ]
  },
  {
   "cell_type": "code",
   "execution_count": 12,
   "metadata": {},
   "outputs": [
    {
     "data": {
      "text/plain": [
       "make_asteroids2 (generic function with 1 method)"
      ]
     },
     "metadata": {},
     "output_type": "display_data"
    }
   ],
   "source": [
    "function make_asteroids2(N::Int; pos_range = 0:200, size_range = 10:30)\n",
    "    pos_rand() = rand(pos_range) # 这里为什么要加()，直接定一个pos_rand不可以么？\n",
    "    sz_rand() = rand(size_range)\n",
    "    return[Widget(\"Asteroid #$i\", Position(pos_rand(), pos_rand()), Size(sz_rand(), sz_rand()))\n",
    "    for i in 1:N]\n",
    "end"
   ]
  },
  {
   "cell_type": "markdown",
   "metadata": {},
   "source": [
    "此时，再调时关键字参数则必须与参数名称一起传递，并且，不再需要考虑顺序。"
   ]
  },
  {
   "cell_type": "code",
   "execution_count": 13,
   "metadata": {},
   "outputs": [
    {
     "data": {
      "text/plain": [
       "5-element Vector{Widget}:\n",
       " Asteroid #1 at (65,29)size28 x 13\n",
       " Asteroid #2 at (48,8)size15 x 20\n",
       " Asteroid #3 at (99,86)size21 x 29\n",
       " Asteroid #4 at (92,73)size28 x 15\n",
       " Asteroid #5 at (137,22)size19 x 30"
      ]
     },
     "metadata": {},
     "output_type": "display_data"
    }
   ],
   "source": [
    "make_asteroids2(5)"
   ]
  },
  {
   "cell_type": "code",
   "execution_count": 16,
   "metadata": {},
   "outputs": [
    {
     "data": {
      "text/plain": [
       "5-element Vector{Widget}:\n",
       " Asteroid #1 at (197,199)size5 x 2\n",
       " Asteroid #2 at (114,155)size3 x 4\n",
       " Asteroid #3 at (135,174)size2 x 3\n",
       " Asteroid #4 at (114,38)size3 x 2\n",
       " Asteroid #5 at (111,103)size2 x 5"
      ]
     },
     "metadata": {},
     "output_type": "display_data"
    }
   ],
   "source": [
    "make_asteroids2(5, size_range = 1:5)"
   ]
  },
  {
   "cell_type": "markdown",
   "metadata": {},
   "source": [
    "另一个特性是关键字参数不必带有任何默认值，比如："
   ]
  },
  {
   "cell_type": "code",
   "execution_count": 17,
   "metadata": {},
   "outputs": [
    {
     "data": {
      "text/plain": [
       "make_asteroids3 (generic function with 1 method)"
      ]
     },
     "metadata": {},
     "output_type": "display_data"
    }
   ],
   "source": [
    "function make_asteroids3(; N::Int, pos_range = 0:200, size_range = 10:30)\n",
    "    pos_rand() = rand(pos_range) # 这里为什么要加()，直接定一个pos_rand不可以么？\n",
    "    sz_rand() = rand(size_range)\n",
    "    return[Widget(\"Asteroid #$i\", Position(pos_rand(), pos_rand()), Size(sz_rand(), sz_rand()))\n",
    "    for i in 1:N]\n",
    "end"
   ]
  },
  {
   "cell_type": "markdown",
   "metadata": {},
   "source": [
    "因为第一个参数N未设置默认值，因此N成为强制性关键字参数，此时可以调用指定N的函数。"
   ]
  },
  {
   "cell_type": "code",
   "execution_count": 21,
   "metadata": {},
   "outputs": [
    {
     "data": {
      "text/plain": [
       "5-element Vector{Widget}:\n",
       " Asteroid #1 at (59,133)size10 x 22\n",
       " Asteroid #2 at (102,174)size17 x 21\n",
       " Asteroid #3 at (120,70)size18 x 29\n",
       " Asteroid #4 at (169,22)size18 x 26\n",
       " Asteroid #5 at (105,32)size30 x 23"
      ]
     },
     "metadata": {},
     "output_type": "display_data"
    }
   ],
   "source": [
    "asteroids = make_asteroids3(N = 5)"
   ]
  },
  {
   "cell_type": "markdown",
   "metadata": {},
   "source": [
    "当一个函数需要许多参数时，它也可以很好地工作。"
   ]
  },
  {
   "cell_type": "markdown",
   "metadata": {},
   "source": [
    "### 3.2.6 接受可变数量的参数\n",
    "在函数参数中添加三个点，则会自动将所有传递的参数汇总到一个变量中。此功能称为slurping。"
   ]
  },
  {
   "cell_type": "code",
   "execution_count": 22,
   "metadata": {},
   "outputs": [
    {
     "data": {
      "text/plain": [
       "shoot (generic function with 1 method)"
      ]
     },
     "metadata": {},
     "output_type": "display_data"
    }
   ],
   "source": [
    "# Shoot any number of targets\n",
    "function shoot(from::Widget, targets::Widget...)\n",
    "    println(\"Type of targets: \", typeof(targets))\n",
    "    for target in targets\n",
    "        println(from.name, \"--> \", target.name)\n",
    "    end\n",
    "end"
   ]
  },
  {
   "cell_type": "code",
   "execution_count": 23,
   "metadata": {},
   "outputs": [
    {
     "data": {
      "text/plain": [
       "Asteroid #3 at (120,70)size18 x 29"
      ]
     },
     "metadata": {},
     "output_type": "display_data"
    }
   ],
   "source": [
    "spaceship = Widget(\"Spaceship\", Position(0, 0), Size(30, 30))\n",
    "target1 = asteroids[1]\n",
    "target2 = asteroids[2]\n",
    "target3 = asteroids[3]"
   ]
  },
  {
   "cell_type": "code",
   "execution_count": 24,
   "metadata": {},
   "outputs": [
    {
     "name": "stdout",
     "output_type": "stream",
     "text": [
      "Type of targets: Tuple{"
     ]
    },
    {
     "name": "stdout",
     "output_type": "stream",
     "text": [
      "Widget}\n",
      "Spaceship--> Asteroid #1\n"
     ]
    }
   ],
   "source": [
    "shoot(spaceship, target1)"
   ]
  },
  {
   "cell_type": "code",
   "execution_count": 26,
   "metadata": {},
   "outputs": [
    {
     "name": "stdout",
     "output_type": "stream",
     "text": [
      "Type of targets: Tuple{Widget, Widget, Widget}\n",
      "Spaceship--> Asteroid #1\n",
      "Spaceship--> Asteroid #3\n",
      "Spaceship--> Asteroid #2\n"
     ]
    }
   ],
   "source": [
    "shoot(spaceship, target1, target3, target2)"
   ]
  },
  {
   "cell_type": "markdown",
   "metadata": {},
   "source": [
    "### 3.2.7 splatting参数\n",
    "调用函数时，当变量后面跟三个点时，则该变量自动分配为多个函数参数，此功能成为splatting。比如，下面一个例子，以特定形式排列几个飞船："
   ]
  },
  {
   "cell_type": "code",
   "execution_count": 27,
   "metadata": {},
   "outputs": [
    {
     "data": {
      "text/plain": [
       "triangular_formation! (generic function with 1 method)"
      ]
     },
     "metadata": {},
     "output_type": "display_data"
    }
   ],
   "source": [
    "# Special arrangement before attacks\n",
    "function triangular_formation!(s1::Widget, s2::Widget, s3::Widget)\n",
    "    x_offset = 30\n",
    "    y_offset = 50\n",
    "    s2.position.x = s1.position.x - x_offset\n",
    "    s3.position.x = s1.position.x + x_offset\n",
    "    s2.position.y = s3.position.y = s1.position.y - y_offset\n",
    "    (s1, s2, s3)\n",
    "end"
   ]
  },
  {
   "cell_type": "markdown",
   "metadata": {},
   "source": [
    "先建造几个飞船"
   ]
  },
  {
   "cell_type": "code",
   "execution_count": 76,
   "metadata": {},
   "outputs": [
    {
     "data": {
      "text/plain": [
       "3-element Vector{Widget}:\n",
       " Spaceship 1 at (0,0)size20 x 50\n",
       " Spaceship 2 at (0,0)size20 x 50\n",
       " Spaceship 3 at (0,0)size20 x 50"
      ]
     },
     "metadata": {},
     "output_type": "display_data"
    }
   ],
   "source": [
    "spaceships = [Widget(\"Spaceship $i\", Position(0, 0), Size(20, 50))\n",
    "for i in 1:3\n",
    "    ]"
   ]
  },
  {
   "cell_type": "code",
   "execution_count": 68,
   "metadata": {},
   "outputs": [
    {
     "data": {
      "text/plain": [
       "(Spaceship 1 at (0,0)size20 x 50, Spaceship 2 at (-30,-50)size20 x 50, Spaceship 3 at (30,-50)size20 x 50)"
      ]
     },
     "metadata": {},
     "output_type": "display_data"
    }
   ],
   "source": [
    "triangular_formation!(spaceships...)"
   ]
  },
  {
   "cell_type": "markdown",
   "metadata": {},
   "source": [
    "可以看到，spaceship数组里面的三个元素被分配到三个参数以满足triangular_formation!函数的期望。\n",
    "\n",
    "### 3.2.8 第一类实体函数\n",
    "当函数可以分配给变量或结构字段、传递给函数、从函数返回时，它们被认为是第一类实体。\n",
    "设计一个新函数，可以让飞船沿随机方向飞行一段随机距离。"
   ]
  },
  {
   "cell_type": "code",
   "execution_count": 36,
   "metadata": {},
   "outputs": [
    {
     "data": {
      "text/plain": [
       "random_leap! (generic function with 1 method)"
      ]
     },
     "metadata": {},
     "output_type": "display_data"
    }
   ],
   "source": [
    "function random_move()\n",
    "    return rand([move_up!, move_down!, move_left!, move_right!])\n",
    "end\n",
    "\n",
    "function random_leap!(w::Widget, move_func::Function, distance::Int)\n",
    "    move_func(w, distance)\n",
    "    return w\n",
    "end"
   ]
  },
  {
   "cell_type": "code",
   "execution_count": 74,
   "metadata": {},
   "outputs": [
    {
     "data": {
      "text/plain": [
       "Spaceship at (0,0)size20 x 50"
      ]
     },
     "metadata": {},
     "output_type": "display_data"
    }
   ],
   "source": [
    "spaceship = Widget(\"Spaceship\", Position(0, 0), Size(20, 50))"
   ]
  },
  {
   "cell_type": "code",
   "execution_count": 75,
   "metadata": {},
   "outputs": [
    {
     "data": {
      "text/plain": [
       "Spaceship at (-92,0)size20 x 50"
      ]
     },
     "metadata": {},
     "output_type": "display_data"
    }
   ],
   "source": [
    "random_leap!(spaceship, random_move(), rand(50:100))"
   ]
  },
  {
   "cell_type": "markdown",
   "metadata": {},
   "source": [
    "### 3.2.9 开发匿名函数\n",
    "有时，只想创建一个简单的函数并在不分配名称的情况下传递它。这种编程风格实际上在函数编程语言中相当普遍。比如，我们要炸毁所有小行星，一种方法是定义一个explode函数，并传递给foreach函数，例如："
   ]
  },
  {
   "cell_type": "code",
   "execution_count": 60,
   "metadata": {},
   "outputs": [
    {
     "data": {
      "text/plain": [
       "clean_up_galaxy (generic function with 1 method)"
      ]
     },
     "metadata": {},
     "output_type": "display_data"
    }
   ],
   "source": [
    "function explode(x)\n",
    "    println(x, \" exploded!\")\n",
    "end\n",
    "\n",
    "function clean_up_galaxy(asteroids)\n",
    "    foreach(explode, asteroids)\n",
    "end"
   ]
  },
  {
   "cell_type": "code",
   "execution_count": 61,
   "metadata": {},
   "outputs": [
    {
     "name": "stdout",
     "output_type": "stream",
     "text": [
      "Asteroid #1 at (59,133)size10 x 22 exploded!\n",
      "Asteroid #2 at (102,174)size17 x 21 exploded!\n",
      "Asteroid #3 at (120,70)size18 x 29 exploded!\n",
      "Asteroid #4 at (169,22)size18 x 26 exploded!\n",
      "Asteroid #5 at (105,32)size30 x 23 exploded!\n"
     ]
    }
   ],
   "source": [
    "clean_up_galaxy(asteroids)"
   ]
  },
  {
   "cell_type": "markdown",
   "metadata": {},
   "source": [
    "实现了想要的功能。\n",
    "\n",
    "如果仅将及iiniminghanshu传递给forech，我们可以达到相同的效果。"
   ]
  },
  {
   "cell_type": "code",
   "execution_count": 62,
   "metadata": {},
   "outputs": [
    {
     "data": {
      "text/plain": [
       "clean_up_galaxy1 (generic function with 1 method)"
      ]
     },
     "metadata": {},
     "output_type": "display_data"
    }
   ],
   "source": [
    "function clean_up_galaxy1(asteroids)\n",
    "    foreach(x -> println(x, \"exploded\"), asteroids)\n",
    "end"
   ]
  },
  {
   "cell_type": "code",
   "execution_count": 63,
   "metadata": {},
   "outputs": [
    {
     "name": "stdout",
     "output_type": "stream",
     "text": [
      "Asteroid #1 at (59,133)size10 x 22exploded\n",
      "Asteroid #2 at (102,174)size17 x 21exploded\n",
      "Asteroid #3 at (120,70)size18 x 29exploded\n",
      "Asteroid #4 at (169,22)size18 x 26exploded\n",
      "Asteroid #5 at (105,32)size30 x 23exploded\n"
     ]
    }
   ],
   "source": [
    "clean_up_galaxy1(asteroids)"
   ]
  },
  {
   "cell_type": "markdown",
   "metadata": {},
   "source": [
    "匿名函数的语法包含参数变量，后跟箭头和函数主体。这种情况下，我们只有一个参数。如果有更多的参数，可以将它们编写为包含在括号中的元组。匿名函数也可以分配给变量并传递。\n",
    "\n",
    "比如也要炸飞船，则"
   ]
  },
  {
   "cell_type": "code",
   "execution_count": 71,
   "metadata": {},
   "outputs": [
    {
     "data": {
      "text/plain": [
       "clean_up_galaxy (generic function with 2 methods)"
      ]
     },
     "metadata": {},
     "output_type": "display_data"
    }
   ],
   "source": [
    "function clean_up_galaxy(asteroids, spaceships)\n",
    "    ep = x -> println(x, \" exploded!\")\n",
    "    foreach(ep, asteroids)\n",
    "    foreach(ep, spaceships)\n",
    "end"
   ]
  },
  {
   "cell_type": "code",
   "execution_count": 77,
   "metadata": {},
   "outputs": [
    {
     "name": "stdout",
     "output_type": "stream",
     "text": [
      "Asteroid #1 at (59,133)size10 x 22 exploded!\n",
      "Asteroid #2 at (102,174)size17 x 21 exploded!\n",
      "Asteroid #3 at (120,70)size18 x 29 exploded!\n",
      "Asteroid #4 at (169,22)size18 x 26 exploded!\n",
      "Asteroid #5 at (105,32)size30 x 23 exploded!\n",
      "Spaceship 1 at (0,0)size20 x 50 exploded!\n",
      "Spaceship 2 at (0,0)size20 x 50 exploded!\n",
      "Spaceship 3 at (0,0)size20 x 50 exploded!\n"
     ]
    }
   ],
   "source": [
    "clean_up_galaxy(asteroids, spaceships)"
   ]
  },
  {
   "cell_type": "markdown",
   "metadata": {},
   "source": [
    "#### 匿名函数的优点\n",
    "- 无需使用函数名称并污染模块的命名空间。\n",
    "- 在调用时提供匿名函数逻辑使代码更易于月的。\n",
    "- 代码更加紧凑。"
   ]
  },
  {
   "cell_type": "markdown",
   "metadata": {},
   "source": [
    "### 3.2.10 使用do语法"
   ]
  }
 ],
 "metadata": {
  "kernelspec": {
   "display_name": "Julia 1.7.3",
   "language": "julia",
   "name": "julia-1.7"
  },
  "language_info": {
   "file_extension": ".jl",
   "mimetype": "application/julia",
   "name": "julia",
   "version": "1.7.3"
  },
  "orig_nbformat": 4
 },
 "nbformat": 4,
 "nbformat_minor": 2
}
