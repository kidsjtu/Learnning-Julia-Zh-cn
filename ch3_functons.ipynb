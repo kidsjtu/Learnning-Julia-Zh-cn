{
 "cells": [
  {
   "cell_type": "markdown",
   "metadata": {},
   "source": [
    "# 3. Julia的函数\n",
    "## 3.1 定义函数\n",
    "定义函数的常规语法如下\n",
    "```[Julia]\n",
    "function fname(arglist)\n",
    "# function body ...\n",
    "return value(s)\n",
    "```\n",
    "函数的变量清单也可以是空的，则被写作 fname()。\n",
    "例如"
   ]
  },
  {
   "cell_type": "code",
   "execution_count": 8,
   "metadata": {},
   "outputs": [
    {
     "data": {
      "text/plain": [
       "mult (generic function with 1 method)"
      ]
     },
     "execution_count": 8,
     "metadata": {},
     "output_type": "execute_result"
    }
   ],
   "source": [
    "function mult(x, y)\n",
    "    println(\"x is $x and y is $y\")\n",
    "    return x * y\n",
    "end"
   ]
  },
  {
   "cell_type": "markdown",
   "metadata": {},
   "source": [
    "调用函数，有"
   ]
  },
  {
   "cell_type": "code",
   "execution_count": 7,
   "metadata": {},
   "outputs": [
    {
     "ename": "LoadError",
     "evalue": "UndefVarError: mult not defined",
     "output_type": "error",
     "traceback": [
      "UndefVarError: mult not defined",
      "",
      "Stacktrace:",
      " [1] top-level scope",
      "   @ In[7]:1",
      " [2] eval",
      "   @ .\\boot.jl:373 [inlined]",
      " [3] include_string(mapexpr::typeof(REPL.softscope), mod::Module, code::String, filename::String)",
      "   @ Base .\\loading.jl:1196"
     ]
    }
   ],
   "source": [
    "mult(3,5)\n",
    "n = mult(3,4)"
   ]
  },
  {
   "cell_type": "markdown",
   "metadata": {},
   "source": [
    "通常按照惯例，无特殊强调时，函数名用小写字母表示。可以包含unicode字符，对于数学符号比较有用。\n",
    "\n",
    "return关键字是可选的，也可以直接写成 x * y 则函数默认返回end前的最后一行。多行函数中，写return能够提高程序的可读性。\n",
    "\n",
    "return不仅能输出一个结果变量，也能输出多个。\n",
    "例如"
   ]
  },
  {
   "cell_type": "code",
   "execution_count": 6,
   "metadata": {},
   "outputs": [
    {
     "data": {
      "text/plain": [
       "multi (generic function with 1 method)"
      ]
     },
     "execution_count": 6,
     "metadata": {},
     "output_type": "execute_result"
    }
   ],
   "source": [
    "function multi(n,m)\n",
    "    n*m, div(n,m), n%m\n",
    "end"
   ]
  },
  {
   "cell_type": "code",
   "execution_count": 11,
   "metadata": {},
   "outputs": [
    {
     "data": {
      "text/plain": [
       "(16, 4, 0)"
      ]
     },
     "metadata": {},
     "output_type": "display_data"
    }
   ],
   "source": [
    "multi(8, 2)"
   ]
  },
  {
   "cell_type": "markdown",
   "metadata": {},
   "source": [
    "也可以将输出分别赋值给不同的变量。"
   ]
  },
  {
   "cell_type": "code",
   "execution_count": 13,
   "metadata": {},
   "outputs": [
    {
     "data": {
      "text/plain": [
       "16"
      ]
     },
     "metadata": {},
     "output_type": "display_data"
    }
   ],
   "source": [
    "x, y, z = multi(8, 2)\n",
    "x"
   ]
  },
  {
   "cell_type": "markdown",
   "metadata": {},
   "source": [
    "也可以用varargs 来定义函数，比如"
   ]
  },
  {
   "cell_type": "code",
   "execution_count": 14,
   "metadata": {},
   "outputs": [
    {
     "data": {
      "text/plain": [
       "varargs (generic function with 1 method)"
      ]
     },
     "metadata": {},
     "output_type": "display_data"
    }
   ],
   "source": [
    "function varargs(n, m, args...)\n",
    "    println(\"arguments: $n, $m, $args\")\n",
    "end"
   ]
  },
  {
   "cell_type": "markdown",
   "metadata": {},
   "source": [
    "此时，n和m是位置变量，可以不给或者更多。args... 语句表示剩下的所有参数。比如"
   ]
  },
  {
   "cell_type": "code",
   "execution_count": 15,
   "metadata": {},
   "outputs": [
    {
     "name": "stdout",
     "output_type": "stream",
     "text": [
      "arguments: 1, 2, (3, 4)\n"
     ]
    }
   ],
   "source": [
    "varargs(1,2,3,4)"
   ]
  },
  {
   "cell_type": "markdown",
   "metadata": {},
   "source": [
    "或者"
   ]
  },
  {
   "cell_type": "code",
   "execution_count": 21,
   "metadata": {},
   "outputs": [
    {
     "name": "stdout",
     "output_type": "stream",
     "text": [
      "arguments: 1, 3, ()\n"
     ]
    }
   ],
   "source": [
    "varargs(1,3)"
   ]
  },
  {
   "cell_type": "markdown",
   "metadata": {},
   "source": [
    "Julia中，函数的所有参数都通过引用传递，在传递过程中它们的数值不会被复制，这意味着它们可以从内部进行更改，并且更改将对代码调用可见。\n",
    "\n",
    "如下"
   ]
  },
  {
   "cell_type": "code",
   "execution_count": 24,
   "metadata": {},
   "outputs": [
    {
     "data": {
      "text/plain": [
       "4-element Vector{Int64}:\n",
       "   2\n",
       "   3\n",
       "   4\n",
       " -10"
      ]
     },
     "metadata": {},
     "output_type": "display_data"
    }
   ],
   "source": [
    "function insert_elem(arr)\n",
    "    push!(arr, -10)\n",
    "end\n",
    "arr = [2, 3, 4]\n",
    "insert_elem(arr)\n",
    "arr"
   ]
  },
  {
   "cell_type": "markdown",
   "metadata": {},
   "source": [
    "可见调用函数过程中，arr的数值已经被更改了。\n",
    "\n",
    "此外可以显式指定参数的类型，比如"
   ]
  },
  {
   "cell_type": "code",
   "execution_count": null,
   "metadata": {},
   "outputs": [],
   "source": [
    "function multf(x::Float64, y::Float64)\n",
    "    x * y\n",
    "end\n",
    "multf(5, 6)"
   ]
  },
  {
   "cell_type": "markdown",
   "metadata": {},
   "source": [
    "上述程序输出结果为\n",
    "```\n",
    "MethodError: no method matching multf(::Int64, ::Int64)\n",
    "```\n",
    "对于简单的数学表达，函数可以写成紧凑的形式，比如"
   ]
  },
  {
   "cell_type": "code",
   "execution_count": 28,
   "metadata": {},
   "outputs": [
    {
     "data": {
      "text/plain": [
       "31"
      ]
     },
     "metadata": {},
     "output_type": "display_data"
    }
   ],
   "source": [
    "f(x, y) = x^3 - y + x * y\n",
    "f(3,2)"
   ]
  },
  {
   "cell_type": "markdown",
   "metadata": {},
   "source": [
    "## 3.2 可选参数和关键字参数\n",
    "定义函数时，一个或者多个参数可以用以下形式赋默认值\n",
    "```[Julia]\n",
    "f(arg = val)\n",
    "```\n",
    "此时，如果调用时未给出参数值，则自动使用默认值。"
   ]
  },
  {
   "cell_type": "code",
   "execution_count": 29,
   "metadata": {},
   "outputs": [
    {
     "data": {
      "text/plain": [
       "6"
      ]
     },
     "metadata": {},
     "output_type": "display_data"
    }
   ],
   "source": [
    "f5(a, b = 5) = a + b\n",
    "f5(1)"
   ]
  },
  {
   "cell_type": "code",
   "execution_count": 30,
   "metadata": {},
   "outputs": [
    {
     "data": {
      "text/plain": [
       "3"
      ]
     },
     "metadata": {},
     "output_type": "display_data"
    }
   ],
   "source": [
    "f5(2,1)"
   ]
  },
  {
   "cell_type": "markdown",
   "metadata": {},
   "source": [
    "上面定义的函数，参数只能根据位置定义，而调用\n",
    "```[Julia]\n",
    "f(2, b = 5)\n",
    "```\n",
    "则会报错。为了提高代码可读性，在调用函数时显式调用参数值，这种方式称为可选关键字参数，因为参数有明确的名称，因此顺序是无所谓的，但是：\n",
    "1. 要放到后面\n",
    "2. 定义时与其它参数用分号隔开"
   ]
  },
  {
   "cell_type": "code",
   "execution_count": 35,
   "metadata": {},
   "outputs": [
    {
     "data": {
      "text/plain": [
       "12"
      ]
     },
     "metadata": {},
     "output_type": "display_data"
    }
   ],
   "source": [
    "k(x; a1 = 1, a2 = 2) = x * (a1 + a2)\n",
    "k(3, a2 = 3)"
   ]
  },
  {
   "cell_type": "markdown",
   "metadata": {},
   "source": [
    "举一反三以下，这里面的跟前面混淆，定义时，分号隔开就行。不用赋默认值也可以。"
   ]
  },
  {
   "cell_type": "code",
   "execution_count": 34,
   "metadata": {},
   "outputs": [
    {
     "data": {
      "text/plain": [
       "3"
      ]
     },
     "metadata": {},
     "output_type": "display_data"
    }
   ],
   "source": [
    "k(x; a1, a2) = x * (a1 - a2)\n",
    "k(3, a1 = 2, a2 = 1)"
   ]
  },
  {
   "cell_type": "markdown",
   "metadata": {},
   "source": [
    "正常参数，可选位置参数以及关键字参数可以结合使用，比如"
   ]
  },
  {
   "cell_type": "code",
   "execution_count": 36,
   "metadata": {},
   "outputs": [
    {
     "data": {
      "text/plain": [
       "allargs (generic function with 2 methods)"
      ]
     },
     "metadata": {},
     "output_type": "display_data"
    }
   ],
   "source": [
    "function allargs(a, b = 2; c = 3)\n",
    "    a + b + c\n",
    "end"
   ]
  },
  {
   "cell_type": "code",
   "execution_count": 42,
   "metadata": {},
   "outputs": [
    {
     "name": "stdout",
     "output_type": "stream",
     "text": [
      "6\n",
      "7\n",
      "9\n",
      "8\n"
     ]
    }
   ],
   "source": [
    "println(allargs(1))\n",
    "println(allargs(1, 3))\n",
    "# println(allargs(1, 4, 5)) 这个不对，无法输出\n",
    "println(allargs(1, 4, c = 4))\n",
    "println(allargs(1, c = 5))"
   ]
  },
  {
   "cell_type": "markdown",
   "metadata": {},
   "source": [
    "一种有用的情况如下"
   ]
  },
  {
   "cell_type": "code",
   "execution_count": 50,
   "metadata": {},
   "outputs": [
    {
     "data": {
      "text/plain": [
       "pairs(::NamedTuple) with 3 entries:\n",
       "  :k1 => \"name1\"\n",
       "  :l2 => \"name2\"\n",
       "  :c  => 7"
      ]
     },
     "metadata": {},
     "output_type": "display_data"
    }
   ],
   "source": [
    "function varargs2(;args...)\n",
    "    args\n",
    "end\n",
    "d=varargs2(k1 = \"name1\", l2 = \"name2\",c = 7)"
   ]
  },
  {
   "cell_type": "code",
   "execution_count": 52,
   "metadata": {},
   "outputs": [
    {
     "data": {
      "text/plain": [
       "\"name1\""
      ]
     },
     "metadata": {},
     "output_type": "display_data"
    }
   ],
   "source": [
    "d[:k1]"
   ]
  },
  {
   "cell_type": "markdown",
   "metadata": {},
   "source": [
    "## 3.3 匿名函数\n",
    "函数可以写作没有函数名的形式，如\n",
    "```[Julia]\n",
    "(x, y) -> x^3 - y + x * y\n",
    "```\n",
    "并且可以通过如下形式为函数绑定一个函数名，并进行调用。"
   ]
  },
  {
   "cell_type": "code",
   "execution_count": 1,
   "metadata": {},
   "outputs": [
    {
     "data": {
      "text/plain": [
       "31"
      ]
     },
     "execution_count": 1,
     "metadata": {},
     "output_type": "execute_result"
    }
   ],
   "source": [
    "f = (x, y) -> x^3 - y + x * y\n",
    "f(3, 2)"
   ]
  },
  {
   "cell_type": "markdown",
   "metadata": {},
   "source": [
    "匿名函数也经常写作如下形式："
   ]
  },
  {
   "cell_type": "code",
   "execution_count": 3,
   "metadata": {},
   "outputs": [
    {
     "data": {
      "text/plain": [
       "#5 (generic function with 1 method)"
      ]
     },
     "execution_count": 3,
     "metadata": {},
     "output_type": "execute_result"
    }
   ],
   "source": [
    "function (x)\n",
    "    x + 2\n",
    "end"
   ]
  },
  {
   "cell_type": "code",
   "execution_count": 4,
   "metadata": {},
   "outputs": [
    {
     "data": {
      "text/plain": [
       "5"
      ]
     },
     "execution_count": 4,
     "metadata": {},
     "output_type": "execute_result"
    }
   ],
   "source": [
    "ans(3)"
   ]
  },
  {
   "cell_type": "markdown",
   "metadata": {},
   "source": [
    "此外，匿名函数通常可以写作lamba表达式的形式，如\n",
    "```[Julia]\n",
    "(x) -> x + 2\n",
    "```\n",
    "符号“->”前的部分是函数的参数，之后的是返回值。也可以简写作\n",
    "```[Julia]\n",
    "x -> x + 2\n",
    "```\n",
    "无参数的函数可以写作\n",
    "```[Julia]\n",
    "() -> println(\"hello\")\n",
    "```\n",
    "**如果在意性能，尽量使用非匿名函数，匿名函数通常用于将一个函数作为参数传递给其它函数时。**"
   ]
  },
  {
   "cell_type": "markdown",
   "metadata": {},
   "source": [
    "## 3.4 一类函数和闭包\n",
    "本节讨论函数的功能和灵活性，首先，函数也有自己的类型，并且函数可以幅值给一个变量。"
   ]
  },
  {
   "cell_type": "code",
   "execution_count": 9,
   "metadata": {},
   "outputs": [
    {
     "name": "stdout",
     "output_type": "stream",
     "text": [
      "x is 6 and y is 6\n"
     ]
    },
    {
     "data": {
      "text/plain": [
       "36"
      ]
     },
     "execution_count": 9,
     "metadata": {},
     "output_type": "execute_result"
    }
   ],
   "source": [
    "m = mult \n",
    "m(6, 6)"
   ]
  },
  {
   "cell_type": "markdown",
   "metadata": {},
   "source": [
    "这个功能在使用匿名函数时比较方便，比如"
   ]
  },
  {
   "cell_type": "code",
   "execution_count": 11,
   "metadata": {},
   "outputs": [
    {
     "data": {
      "text/plain": [
       "5"
      ]
     },
     "execution_count": 11,
     "metadata": {},
     "output_type": "execute_result"
    }
   ],
   "source": [
    "plustwo = function(x)\n",
    "x + 2\n",
    "end\n",
    "plustwo(3)"
   ]
  },
  {
   "cell_type": "markdown",
   "metadata": {},
   "source": [
    "函数可以调用其它函数作为参数，比如"
   ]
  },
  {
   "cell_type": "code",
   "execution_count": 12,
   "metadata": {},
   "outputs": [
    {
     "name": "stdout",
     "output_type": "stream",
     "text": [
      "33.99999999999537\n"
     ]
    }
   ],
   "source": [
    "function numerical_derivative(f, x, dx=0.01)\n",
    "    derivative = (f(x+dx) - f(x-dx))/(2*dx)\n",
    "    return derivative\n",
    "end\n",
    "f = x -> 2x^2 + 30x + 9\n",
    "println(numerical_derivative(f, 1, 0.001))"
   ]
  },
  {
   "cell_type": "markdown",
   "metadata": {},
   "source": [
    "函数还可以返回另一个函数作为其返回值，例如"
   ]
  },
  {
   "cell_type": "code",
   "execution_count": 17,
   "metadata": {},
   "outputs": [
    {
     "data": {
      "text/plain": [
       "34.0"
      ]
     },
     "execution_count": 17,
     "metadata": {},
     "output_type": "execute_result"
    }
   ],
   "source": [
    "function derivative(f)\n",
    "    return function(x)\n",
    "        # pick a small value for h\n",
    "        h = x == 0 ? sqrt(eps(Float64)) : sqrt(eps(Float64)) * x\n",
    "        xph = x + h\n",
    "        dx = xph - x\n",
    "        f1 = f(xph)\n",
    "        f0 = f(x)\n",
    "        return(f1 - f0) / dx\n",
    "    end\n",
    "end\n",
    "df =derivative(f)\n",
    "df(1.0)"
   ]
  },
  {
   "cell_type": "markdown",
   "metadata": {},
   "source": [
    "上面两个例子都是匿名函数的应用。\n",
    "\n",
    "下面是一个计数函数，该函数返回两个匿名函数。"
   ]
  },
  {
   "cell_type": "code",
   "execution_count": 18,
   "metadata": {},
   "outputs": [
    {
     "data": {
      "text/plain": [
       "counter (generic function with 1 method)"
      ]
     },
     "execution_count": 18,
     "metadata": {},
     "output_type": "execute_result"
    }
   ],
   "source": [
    "function counter()\n",
    "    n = 0\n",
    "    () -> n += 1, () -> n = 0\n",
    "end"
   ]
  },
  {
   "cell_type": "markdown",
   "metadata": {},
   "source": [
    "调用是将两个函数赋值给不同变量"
   ]
  },
  {
   "cell_type": "code",
   "execution_count": 19,
   "metadata": {},
   "outputs": [
    {
     "data": {
      "text/plain": [
       "(var\"#23#25\"(Core.Box(0)), var\"#24#26\"(Core.Box(0)))"
      ]
     },
     "execution_count": 19,
     "metadata": {},
     "output_type": "execute_result"
    }
   ],
   "source": [
    "(addOne, reset) = counter()"
   ]
  },
  {
   "cell_type": "code",
   "execution_count": 20,
   "metadata": {},
   "outputs": [
    {
     "data": {
      "text/plain": [
       "1"
      ]
     },
     "execution_count": 20,
     "metadata": {},
     "output_type": "execute_result"
    }
   ],
   "source": [
    "addOne()"
   ]
  },
  {
   "cell_type": "code",
   "execution_count": 21,
   "metadata": {},
   "outputs": [
    {
     "data": {
      "text/plain": [
       "2"
      ]
     },
     "execution_count": 21,
     "metadata": {},
     "output_type": "execute_result"
    }
   ],
   "source": [
    "addOne()"
   ]
  },
  {
   "cell_type": "code",
   "execution_count": 22,
   "metadata": {},
   "outputs": [
    {
     "data": {
      "text/plain": [
       "3"
      ]
     },
     "execution_count": 22,
     "metadata": {},
     "output_type": "execute_result"
    }
   ],
   "source": [
    "addOne()"
   ]
  },
  {
   "cell_type": "code",
   "execution_count": 23,
   "metadata": {},
   "outputs": [
    {
     "data": {
      "text/plain": [
       "0"
      ]
     },
     "execution_count": 23,
     "metadata": {},
     "output_type": "execute_result"
    }
   ],
   "source": [
    "reset()"
   ]
  },
  {
   "cell_type": "code",
   "execution_count": 24,
   "metadata": {},
   "outputs": [
    {
     "data": {
      "text/plain": [
       "1"
      ]
     },
     "execution_count": 24,
     "metadata": {},
     "output_type": "execute_result"
    }
   ],
   "source": [
    "addOne()"
   ]
  },
  {
   "cell_type": "markdown",
   "metadata": {},
   "source": [
    "可以看到，变量n仅能通过函数addOne和reset来调用，因此这两个函数对于n是封闭的，因此称作闭包？(closures).\n",
    "局部套用，"
   ]
  }
 ],
 "metadata": {
  "kernelspec": {
   "display_name": "Julia 1.7.0",
   "language": "julia",
   "name": "julia-1.7"
  },
  "language_info": {
   "file_extension": ".jl",
   "mimetype": "application/julia",
   "name": "julia",
   "version": "1.7.0"
  },
  "orig_nbformat": 4
 },
 "nbformat": 4,
 "nbformat_minor": 2
}
