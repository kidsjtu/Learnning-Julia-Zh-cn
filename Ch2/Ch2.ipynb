{
 "metadata": {
  "language_info": {
   "codemirror_mode": {
    "name": "ipython",
    "version": 3
   },
   "file_extension": ".py",
   "mimetype": "text/x-python",
   "name": "python",
   "nbconvert_exporter": "python",
   "pygments_lexer": "ipython3",
   "version": "3.7.6-final"
  },
  "orig_nbformat": 2,
  "kernelspec": {
   "name": "julia-1.5",
   "display_name": "Julia 1.5.3",
   "language": "julia"
  }
 },
 "nbformat": 4,
 "nbformat_minor": 2,
 "cells": [
  {
   "source": [
    "# 2 变量、类型和运算符\n",
    "## 2.1 变量、命名和注释\n",
    "定义变量时不必须指定类型。与matlab类似，用分号取消输出。\n",
    "\\# 井号用于注释"
   ],
   "cell_type": "markdown",
   "metadata": {}
  },
  {
   "cell_type": "code",
   "execution_count": 3,
   "metadata": {},
   "outputs": [],
   "source": [
    "#= 这是一行注释\n",
    " 这个是跨行注释，然而我换行的时候会自动在前面加个井号，那还跨什么行？\n",
    " (问题出在我这里，编译器默认是python)\n",
    "你看这\n",
    " 就这样吧=#"
   ]
  },
  {
   "cell_type": "code",
   "execution_count": 1,
   "metadata": {},
   "outputs": [
    {
     "output_type": "stream",
     "name": "stdout",
     "text": [
      "\u001b[31m输出个带颜色的文字\u001b[39m\n\u001b[33m这是一段黄色的文字\u001b[39m"
     ]
    }
   ],
   "source": [
    "printstyled(\"输出个带颜色的文字\\n\",color=:red)\n",
    "printstyled(\"这是一段黄色的文字\",color=:yellow)"
   ]
  },
  {
   "source": [
    "面向对象时，用action(object)而不是object.action();\n",
    "## 2.2 类型\n",
    "和Python一样，julia支持动态类型。"
   ],
   "cell_type": "markdown",
   "metadata": {}
  },
  {
   "source": [
    "x = 10;\n",
    "println(x);\n",
    "x = \"hello\";\n",
    "println(x);"
   ],
   "cell_type": "code",
   "metadata": {},
   "execution_count": 7,
   "outputs": [
    {
     "output_type": "stream",
     "name": "stdout",
     "text": [
      "10\nhello\n"
     ]
    }
   ]
  },
  {
   "source": [
    "同时，也支持定义变量的类型\n",
    "``` Julia\n",
    "x::String # x 只能是字符串\n",
    "```"
   ],
   "cell_type": "markdown",
   "metadata": {}
  },
  {
   "cell_type": "code",
   "execution_count": 10,
   "metadata": {},
   "outputs": [
    {
     "output_type": "error",
     "ename": "LoadError",
     "evalue": "TypeError: in typeassert, expected String, got a value of type Int64",
     "traceback": [
      "TypeError: in typeassert, expected String, got a value of type Int64",
      "",
      "Stacktrace:",
      " [1] top-level scope at In[10]:1",
      " [2] include_string(::Function, ::Module, ::String, ::String) at .\\loading.jl:1091"
     ]
    }
   ],
   "source": [
    "(2+3)::String"
   ]
  },
  {
   "source": [
    "这里和其它语言的主要区别是类型出现在变量名后面。一般来说，Julia中变量的类型可以改变，但这样做不利于运算性能。为了获得最佳性能，最好编写类型稳定的代码。也就是程序中每个变量都不会随着时间改变类型。认真处理变量类型对于避免性能瓶颈是非常重要的。\n",
    "\n",
    "下面这个例子，教程里说快了50倍，我自己电脑上跑出来大约是2倍的关系，可能新版本对这种问题优化了吧。然后用vscode跑了一下，发现两个速度基本上一样了，呵呵~\n",
    "基本上第一次运行的时候会慢一倍，第二次运行可能变量还在，两者就一样了。"
   ],
   "cell_type": "code",
   "metadata": {},
   "execution_count": null,
   "outputs": []
  },
  {
   "cell_type": "code",
   "execution_count": 17,
   "metadata": {},
   "outputs": [
    {
     "output_type": "stream",
     "name": "stdout",
     "text": [
      "  0.048436 seconds (127.08 k allocations: 6.968 MiB, 19.27% gc time)\n  0.036258 seconds (121.43 k allocations: 6.718 MiB)\n"
     ]
    }
   ],
   "source": [
    "function sumofsins1(n::Integer)  \n",
    "    r = 0  \n",
    "    for i in 1:n  \n",
    "        r += sin(3.4)  \n",
    "    end  \n",
    "    return r  \n",
    "end  \n",
    "\n",
    "function sumofsins2(n::Integer)  \n",
    "    r = 0.0  \n",
    "    for i in 1:n  \n",
    "        r += sin(3.4)  \n",
    "    end  \n",
    "    return r  \n",
    "end \n",
    "@time [sumofsins1(100_000) for i in 1:100];  \n",
    "@time [sumofsins2(100_000) for i in 1:100];"
   ]
  },
  {
   "source": [
    "也支持自定义类型，按照惯例，类型首字母大写\n",
    "\n",
    "```Julia\n",
    "zhiben::Person # 一个类型是任的至笨\n",
    "```\n",
    "\n",
    "如果需要的话，可以用大写区分单词\n",
    "\n",
    "```Julia\n",
    "CamelCase, BigFloat\n",
    "```\n",
    "\n",
    "typeof(x)输出x的类型，isa(x,T)用来判断x是否是类型T。"
   ],
   "cell_type": "markdown",
   "metadata": {}
  },
  {
   "cell_type": "code",
   "execution_count": 18,
   "metadata": {},
   "outputs": [
    {
     "output_type": "execute_result",
     "data": {
      "text/plain": [
       "true"
      ]
     },
     "metadata": {},
     "execution_count": 18
    }
   ],
   "source": [
    "isa(\"ABC\", String)"
   ]
  },
  {
   "cell_type": "code",
   "execution_count": 19,
   "metadata": {},
   "outputs": [
    {
     "output_type": "execute_result",
     "data": {
      "text/plain": [
       "false"
      ]
     },
     "metadata": {},
     "execution_count": 19
    }
   ],
   "source": [
    "isa(1,Bool)"
   ]
  },
  {
   "source": [
    "## 2.3 整数\n",
    "+, -, * 能用于整数，/通常用于浮点数，如果进行整除和余数运算，使用div和rem，^ 用于指数运算。"
   ],
   "cell_type": "markdown",
   "metadata": {}
  },
  {
   "cell_type": "code",
   "execution_count": 21,
   "metadata": {},
   "outputs": [
    {
     "output_type": "execute_result",
     "data": {
      "text/plain": [
       "1"
      ]
     },
     "metadata": {},
     "execution_count": 21
    }
   ],
   "source": [
    "div(5,3)"
   ]
  },
  {
   "cell_type": "code",
   "execution_count": 25,
   "metadata": {},
   "outputs": [
    {
     "output_type": "execute_result",
     "data": {
      "text/plain": [
       "2"
      ]
     },
     "metadata": {},
     "execution_count": 25
    }
   ],
   "source": [
    "rem(5,3)"
   ]
  },
  {
   "cell_type": "code",
   "execution_count": 26,
   "metadata": {},
   "outputs": [
    {
     "output_type": "execute_result",
     "data": {
      "text/plain": [
       "8"
      ]
     },
     "metadata": {},
     "execution_count": 26
    }
   ],
   "source": [
    "2^3"
   ]
  },
  {
   "cell_type": "code",
   "execution_count": null,
   "metadata": {},
   "outputs": [],
   "source": []
  },
  {
   "cell_type": "code",
   "execution_count": 23,
   "metadata": {},
   "outputs": [
    {
     "output_type": "stream",
     "name": "stdout",
     "text": [
      "true\n"
     ]
    }
   ],
   "source": [
    "println(1!=2)"
   ]
  },
  {
   "cell_type": "code",
   "execution_count": 24,
   "metadata": {},
   "outputs": [
    {
     "output_type": "stream",
     "name": "stdout",
     "text": [
      "true\n"
     ]
    }
   ],
   "source": [
    "println(0<1<3)"
   ]
  },
  {
   "source": [
    "## 2.4 浮点数\n",
    "支持小数形式3.14，以及指数形式4e-14。\n",
    "\n",
    "分Float16和Float64两种类型，后者时双精度浮点数，即double\n",
    "\n",
    "单精度浮点数用Float32形式表示，需要用以下形式3.14f0。2.5f2是单精度浮点数，2.5e2是双精度浮点数"
   ],
   "cell_type": "markdown",
   "metadata": {}
  },
  {
   "cell_type": "code",
   "execution_count": 30,
   "metadata": {},
   "outputs": [
    {
     "output_type": "stream",
     "name": "stdout",
     "text": [
      "Float32\nFloat64\n0.0\nFloat32\nFloat64\n"
     ]
    }
   ],
   "source": [
    "a = 2.5f2;\n",
    "b = 2.5e2;\n",
    "println(typeof(a))\n",
    "println(typeof(b))\n",
    "println(a-b)\n",
    "println(typeof(a))\n",
    "println(typeof(b))"
   ]
  },
  {
   "source": [
    "以下这个问题在比较浮点数大小的时候应该格外注意，这种应该用>=或者<=来进行判断。"
   ],
   "cell_type": "markdown",
   "metadata": {}
  },
  {
   "cell_type": "code",
   "execution_count": 36,
   "metadata": {},
   "outputs": [
    {
     "output_type": "stream",
     "name": "stdout",
     "text": [
      "0.30000000000000004\nfalse\n"
     ]
    }
   ],
   "source": [
    "println(0.1+0.2)\n",
    "println(0.1+0.2==0.3)"
   ]
  },
  {
   "source": [
    "## 2.3 基本数学函数和运算符\n",
    "``` [Julia]\n",
    "sqrt(), cbrt(), exp(), log(), sin(), cos(), tan(), erf() (the error function), rand()\n",
    "```\n",
    "不同变量的赋值可以写一起，甚至可以直接交换，例如"
   ],
   "cell_type": "markdown",
   "metadata": {}
  },
  {
   "cell_type": "code",
   "execution_count": 38,
   "metadata": {},
   "outputs": [
    {
     "output_type": "stream",
     "name": "stdout",
     "text": [
      "a = 3\nb = 4\na = 4\nb = 3\n"
     ]
    }
   ],
   "source": [
    "a = 1; b = 2; c = 3; d = 4;\n",
    "a, b = c, d;\n",
    "println(\"a = \", a);\n",
    "println(\"b = \",b);\n",
    "a, b = b, a;\n",
    "println(\"a = \", a);\n",
    "println(\"b = \", b);"
   ]
  },
  {
   "source": [
    "逻辑运算符&&，||，！ 与或非，有以下优化\n",
    "- a&&b 中，如果a 是false, 则不再计算b\n",
    "- a||b 中，如果a是true,则不再计算b\n",
    "另外，自加减运算符用\n",
    "```[Julia]\n",
    "n += 1;\n",
    "n -= 1;\n",
    "```\n",
    "而不是n++或者n--"
   ],
   "cell_type": "markdown",
   "metadata": {}
  },
  {
   "source": [
    "## 2.4 有理数和复数\n",
    "支持复数，并且运算符也都支持复数。"
   ],
   "cell_type": "markdown",
   "metadata": {}
  },
  {
   "cell_type": "code",
   "execution_count": 40,
   "metadata": {},
   "outputs": [
    {
     "output_type": "execute_result",
     "data": {
      "text/plain": [
       "Complex{Float64}"
      ]
     },
     "metadata": {},
     "execution_count": 40
    }
   ],
   "source": [
    "typeof(3.2 + 7.1im)"
   ]
  },
  {
   "cell_type": "code",
   "execution_count": 44,
   "metadata": {},
   "outputs": [
    {
     "output_type": "stream",
     "name": "stdout",
     "text": [
      "5.0\n",
      "3 + 4im\n"
     ]
    }
   ],
   "source": [
    "println(abs(3+4im))\n",
    "println(complex(3,4))"
   ]
  },
  {
   "source": [
    "同时，可以用双斜杠来表示分数。"
   ],
   "cell_type": "markdown",
   "metadata": {}
  },
  {
   "cell_type": "code",
   "execution_count": 45,
   "metadata": {},
   "outputs": [
    {
     "output_type": "execute_result",
     "data": {
      "text/plain": [
       "4//1"
      ]
     },
     "metadata": {},
     "execution_count": 45
    }
   ],
   "source": [
    "4//3*3"
   ]
  },
  {
   "source": [
    "## 2.5 字符\n",
    "与Python不同，和C或者Java类似，Char类型标识一个字母的字符"
   ],
   "cell_type": "markdown",
   "metadata": {}
  },
  {
   "cell_type": "code",
   "execution_count": 49,
   "metadata": {},
   "outputs": [
    {
     "output_type": "execute_result",
     "data": {
      "text/plain": [
       "'α': Unicode U+03B1 (category Ll: Letter, lowercase)"
      ]
     },
     "metadata": {},
     "execution_count": 49
    }
   ],
   "source": [
    "Char(945)"
   ]
  },
  {
   "source": [
    "## 2.6 字符串\n",
    "定义后不能更改里面某一个字符，且索引从1开始，而非从0"
   ],
   "cell_type": "markdown",
   "metadata": {}
  },
  {
   "cell_type": "code",
   "execution_count": 57,
   "metadata": {},
   "outputs": [
    {
     "output_type": "stream",
     "name": "stdout",
     "text": [
      "H\no\n5\n"
     ]
    }
   ],
   "source": [
    "s = \"Hello\";\n",
    "# s[2] = b; 这个肯定是错的，没法用\n",
    "println(s[1])\n",
    "println(s[end])\n",
    "# println(endof(s)) 这个是教程里的，说是比length大1，但是这边输出不了。\n",
    "# print(endof(\"Hello\"))\n",
    "println(length(s))"
   ]
  },
  {
   "cell_type": "code",
   "execution_count": 59,
   "metadata": {},
   "outputs": [
    {
     "output_type": "execute_result",
     "data": {
      "text/plain": [
       "5"
      ]
     },
     "metadata": {},
     "execution_count": 59
    }
   ],
   "source": [
    "lastindex(s) # 书上说这个返回6，然而我这里是5，这也是更新了么？"
   ]
  },
  {
   "cell_type": "code",
   "execution_count": 60,
   "metadata": {},
   "outputs": [
    {
     "output_type": "execute_result",
     "data": {
      "text/plain": [
       "\"Jolia\""
      ]
     },
     "metadata": {},
     "execution_count": 60
    }
   ],
   "source": [
    "replace(\"Julia\",\"u\"=>\"o\")"
   ]
  },
  {
   "source": [
    "## 2.7 格式化数字和字符串"
   ],
   "cell_type": "markdown",
   "metadata": {}
  },
  {
   "cell_type": "code",
   "execution_count": 62,
   "metadata": {},
   "outputs": [
    {
     "output_type": "stream",
     "name": "stdout",
     "text": [
      "Hello, Pascal \n"
     ]
    }
   ],
   "source": [
    "using Printf\n",
    "name = \"Pascal\"\n",
    "@printf(\"Hello, %s \\n\", name)"
   ]
  },
  {
   "cell_type": "code",
   "execution_count": 64,
   "metadata": {},
   "outputs": [
    {
     "output_type": "stream",
     "name": "stdout",
     "text": [
      "100000\nx = 7.357\n1.52 33.98\n\"7.357\"\n7.356790e+00\noutput: α\nI like Julia\n                             text right justified!\na pointer: 0x"
     ]
    },
    {
     "output_type": "error",
     "ename": "LoadError",
     "evalue": "MethodError: no method matching rem(::Float64, ::Type{UInt64})\nClosest candidates are:\n  rem(::Any, ::Any, !Matched::RoundingMode{:ToZero}) at div.jl:67\n  rem(::Any, ::Any, !Matched::RoundingMode{:Down}) at div.jl:68\n  rem(::Any, ::Any, !Matched::RoundingMode{:Up}) at div.jl:69\n  ...",
     "traceback": [
      "MethodError: no method matching rem(::Float64, ::Type{UInt64})\nClosest candidates are:\n  rem(::Any, ::Any, !Matched::RoundingMode{:ToZero}) at div.jl:67\n  rem(::Any, ::Any, !Matched::RoundingMode{:Down}) at div.jl:68\n  rem(::Any, ::Any, !Matched::RoundingMode{:Up}) at div.jl:69\n  ...",
      "",
      "Stacktrace:",
      " [1] unsigned(::Float64) at .\\int.jl:188",
      " [2] top-level scope at In[64]:24",
      " [3] include_string(::Function, ::Module, ::String, ::String) at .\\loading.jl:1091"
     ]
    }
   ],
   "source": [
    "using Printf \n",
    "# d for integers: \n",
    "@printf(\"%d\\n\", 1e5) #> 100000 \n",
    "x = 7.35679 \n",
    "# f = float format, rounded if needed: \n",
    "@printf(\"x = %0.3f\\n\", x) #> 7.357 \n",
    "aa = 1.5231071779744345 \n",
    "bb = 33.976886930000695 \n",
    "@printf(\"%.2f %.2f\\n\", aa, bb) #> 1.52 33.98 \n",
    "# or to create another string: \n",
    "str = @sprintf(\"%0.3f\", x) \n",
    "show(str) #> \"7.357\" \n",
    "\n",
    "println() \n",
    "# e = scientific format with e: \n",
    "@printf(\"%0.6e\\n\", x) #> 7.356790e+00 \n",
    "# c = for characters: \n",
    "@printf(\"output: %c\\n\", 'α') #> output: α \n",
    "# s for strings: \n",
    "@printf(\"%s\\n\", \"I like Julia\") \n",
    "# right justify: \n",
    "@printf(\"%50s\\n\", \"text right justified!\") \n",
    "# p for pointers: \n",
    "@printf(\"a pointer: %p\\n\", 1e10) #> a pointer: 0x00000002540be400"
   ]
  },
  {
   "source": [
    "## 2.8 正则表达式\n"
   ],
   "cell_type": "markdown",
   "metadata": {}
  }
 ]
}