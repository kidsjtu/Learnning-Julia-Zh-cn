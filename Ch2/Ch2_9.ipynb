{
 "metadata": {
  "language_info": {
   "codemirror_mode": {
    "name": "ipython",
    "version": 3
   },
   "file_extension": ".py",
   "mimetype": "text/x-python",
   "name": "python",
   "nbconvert_exporter": "python",
   "pygments_lexer": "ipython3",
   "version": 3
  },
  "orig_nbformat": 2,
  "kernelspec": {
   "name": "julia-1.5",
   "display_name": "Julia 1.5.3",
   "language": "julia"
  }
 },
 "nbformat": 4,
 "nbformat_minor": 2,
 "cells": [
  {
   "source": [
    "## 2.9 排列和数组\n",
    "排列的默认步长是1，1到1000写作1:1000,可以通过第二个数字来定义。"
   ],
   "cell_type": "markdown",
   "metadata": {}
  },
  {
   "cell_type": "code",
   "execution_count": 1,
   "metadata": {},
   "outputs": [
    {
     "output_type": "stream",
     "name": "stdout",
     "text": [
      "1\n3\n5\n7\n9\n"
     ]
    }
   ],
   "source": [
    "for i in 1:2:9\n",
    "    println(i)\n",
    "    end"
   ]
  },
  {
   "source": [
    "前文介绍字符串[Strings]时提到split函数时，已经介绍了数组类型："
   ],
   "cell_type": "markdown",
   "metadata": {}
  },
  {
   "cell_type": "code",
   "execution_count": 4,
   "metadata": {},
   "outputs": [
    {
     "output_type": "stream",
     "name": "stdout",
     "text": [
      "Array{SubString{String},1}\nSubString{String}[\"A\", \"B\", \"C\", \"D\"]"
     ]
    }
   ],
   "source": [
    "a = split(\"A,B,C,D\",\",\")\n",
    "println(typeof(a))\n",
    "show(a)"
   ]
  },
  {
   "source": [
    "Julia的数组是非常高效、灵活而且强大的。数组的通用类型为Array{Type,n},其中n是数组的维度。（多维数组和矩阵详见第六章[ch6]）.与前文的复数(Complex)类型一样,Array类型是泛型的，数组中所有的元素是同一数据类型。一个一维数组(也成为向量)可以通过方括号内逗号分隔的元素来进行初始化，比如：arr = \\[100, 25, 37\\] 是一个包含三个元素的数组，Array{Int64,1}，数据类型是自动选择的。如果需要元素类型为Any，那么定义如下："
   ],
   "cell_type": "markdown",
   "metadata": {}
  },
  {
   "cell_type": "code",
   "execution_count": 8,
   "metadata": {},
   "outputs": [
    {
     "output_type": "stream",
     "name": "stdout",
     "text": [
      "Array{Int64,1}\nArray{Any,1}\n"
     ]
    }
   ],
   "source": [
    "arr = [100, 25, 37]\n",
    "println(typeof(arr))\n",
    "arra = Any[100,25,\"ABC\"];\n",
    "println(typeof(arra))"
   ]
  },
  {
   "source": [
    "与Matlab类似，数组索引从1开始，不同于C++，Python等语言。"
   ],
   "cell_type": "markdown",
   "metadata": {}
  },
  {
   "cell_type": "code",
   "execution_count": 9,
   "metadata": {},
   "outputs": [
    {
     "output_type": "execute_result",
     "data": {
      "text/plain": [
       "100"
      ]
     },
     "metadata": {},
     "execution_count": 9
    }
   ],
   "source": [
    "arr[1]"
   ]
  },
  {
   "cell_type": "code",
   "execution_count": null,
   "metadata": {},
   "outputs": [],
   "source": []
  }
 ]
}